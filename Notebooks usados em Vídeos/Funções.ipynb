{
 "cells": [
  {
   "cell_type": "markdown",
   "metadata": {},
   "source": [
    "$$ T = {PV \\over nR} $$\n",
    "\n",
    "$$ \\mu = {C_1T^{C_2} \\over {1 + C_3/T + C_4/T^2}}$$"
   ]
  },
  {
   "cell_type": "code",
   "execution_count": 42,
   "metadata": {},
   "outputs": [],
   "source": [
    "T = lambda P, V = V, n = n, R = R: P*V/n/R\n",
    "mu = lambda T, C1 = C1N2, C2 = C2N2, C3 = C3N2, C4 = C4N2: C1*T**C2/(1+C3/T+C4/T**2)"
   ]
  },
  {
   "cell_type": "code",
   "execution_count": 43,
   "metadata": {},
   "outputs": [],
   "source": [
    "P = 1e5 #Pa\n",
    "V = 1e-3 #m³\n",
    "n = 0.03 #mols\n",
    "R = 8.314 #J/mol/K\n",
    "\n",
    "C1N2 = 6.5592e-07\n",
    "C2N2 = 0.6081\n",
    "C3N2 = 54.714\n",
    "C4N2 = 0\n",
    "\n",
    "pressoes = [1e5, 1.2e5, 1.4e5, 1.6e5, 1.8e5, 2e5]"
   ]
  },
  {
   "cell_type": "code",
   "execution_count": 49,
   "metadata": {},
   "outputs": [],
   "source": [
    "resultado = map(T, pressoes)\n",
    "temperaturas = list(resultado)"
   ]
  },
  {
   "cell_type": "code",
   "execution_count": 53,
   "metadata": {},
   "outputs": [
    {
     "data": {
      "text/plain": [
       "[400.9301579664822,\n",
       " 481.11618955977866,\n",
       " 561.3022211530752,\n",
       " 641.4882527463717,\n",
       " 721.674284339668,\n",
       " 801.8603159329645]"
      ]
     },
     "execution_count": 53,
     "metadata": {},
     "output_type": "execute_result"
    }
   ],
   "source": [
    "temperaturas"
   ]
  },
  {
   "cell_type": "code",
   "execution_count": 54,
   "metadata": {},
   "outputs": [
    {
     "data": {
      "text/plain": [
       "[2.209122931973184e-05,\n",
       " 2.518545917367701e-05,\n",
       " 2.8069975664536574e-05,\n",
       " 3.0786166238365365e-05,\n",
       " 3.3363409993738774e-05,\n",
       " 3.58234145023057e-05]"
      ]
     },
     "execution_count": 54,
     "metadata": {},
     "output_type": "execute_result"
    }
   ],
   "source": [
    "viscosidades = list(map(mu, temperaturas))\n",
    "viscosidades"
   ]
  }
 ],
 "metadata": {
  "kernelspec": {
   "display_name": "Python 3",
   "language": "python",
   "name": "python3"
  },
  "language_info": {
   "codemirror_mode": {
    "name": "ipython",
    "version": 3
   },
   "file_extension": ".py",
   "mimetype": "text/x-python",
   "name": "python",
   "nbconvert_exporter": "python",
   "pygments_lexer": "ipython3",
   "version": "3.8.3"
  }
 },
 "nbformat": 4,
 "nbformat_minor": 4
}
