{
 "cells": [
  {
   "cell_type": "markdown",
   "metadata": {},
   "source": [
    "$$ T = {PV \\over nR} $$\n",
    "\n",
    "$$ \\mu = {C_1T^{C_2} \\over {1 + C_3/T + C_4/T^2}}$$"
   ]
  },
  {
   "cell_type": "code",
   "execution_count": 20,
   "metadata": {},
   "outputs": [],
   "source": [
    "def gases_ideais(P, V, n, R):\n",
    "    \n",
    "    T = P*V/n/R\n",
    "    return T\n",
    "\n",
    "def calcula_temperatura_viscosidade(P, V, n, C1, C2, C3, C4, R = 8.314):\n",
    "    #calcula temperatura e viscosidade\n",
    "    \n",
    "    assert n > 0\n",
    "    assert P > 0\n",
    "    \n",
    "    T = P*V/n/R  #calcula temperatura usando equação dos gases ideias\n",
    "    \n",
    "    \"\"\"calcula a viscosidade de gás específico,\n",
    "    conhecendo a sua temperatura, com um modelo semi-empírico.\"\"\"\n",
    "    mu = C1*T**C2/(1+C3/T+C4/T**2) \n",
    "    return mu, T"
   ]
  },
  {
   "cell_type": "code",
   "execution_count": 24,
   "metadata": {},
   "outputs": [],
   "source": [
    "P = 1e5 #Pa\n",
    "V = 1e-3 #m³\n",
    "n = -0.03 #mols\n",
    "R = 8.314 #J/mol/K\n",
    "P2 = 1.5e5 #Pa\n",
    "\n",
    "C1N2 = 6.5592e-07\n",
    "C2N2 = 0.6081\n",
    "C3N2 = 54.714\n",
    "C4N2 = 0"
   ]
  },
  {
   "cell_type": "code",
   "execution_count": 25,
   "metadata": {},
   "outputs": [
    {
     "ename": "AssertionError",
     "evalue": "",
     "output_type": "error",
     "traceback": [
      "\u001b[1;31m---------------------------------------------------------------------------\u001b[0m",
      "\u001b[1;31mAssertionError\u001b[0m                            Traceback (most recent call last)",
      "\u001b[1;32m<ipython-input-25-a961fc548c18>\u001b[0m in \u001b[0;36m<module>\u001b[1;34m\u001b[0m\n\u001b[1;32m----> 1\u001b[1;33m \u001b[0mcalcula_temperatura_viscosidade\u001b[0m\u001b[1;33m(\u001b[0m\u001b[0mP\u001b[0m\u001b[1;33m,\u001b[0m \u001b[0mV\u001b[0m\u001b[1;33m,\u001b[0m \u001b[0mn\u001b[0m\u001b[1;33m,\u001b[0m \u001b[0mC1N2\u001b[0m\u001b[1;33m,\u001b[0m \u001b[0mC2N2\u001b[0m\u001b[1;33m,\u001b[0m \u001b[0mC3N2\u001b[0m\u001b[1;33m,\u001b[0m \u001b[0mC4N2\u001b[0m\u001b[1;33m)\u001b[0m\u001b[1;33m\u001b[0m\u001b[1;33m\u001b[0m\u001b[0m\n\u001b[0m",
      "\u001b[1;32m<ipython-input-20-a1f1c6e3113c>\u001b[0m in \u001b[0;36mcalcula_temperatura_viscosidade\u001b[1;34m(P, V, n, C1, C2, C3, C4, R)\u001b[0m\n\u001b[0;32m      7\u001b[0m     \u001b[1;31m#calcula temperatura e viscosidade\u001b[0m\u001b[1;33m\u001b[0m\u001b[1;33m\u001b[0m\u001b[1;33m\u001b[0m\u001b[0m\n\u001b[0;32m      8\u001b[0m \u001b[1;33m\u001b[0m\u001b[0m\n\u001b[1;32m----> 9\u001b[1;33m     \u001b[1;32massert\u001b[0m \u001b[0mn\u001b[0m \u001b[1;33m>\u001b[0m \u001b[1;36m0\u001b[0m\u001b[1;33m\u001b[0m\u001b[1;33m\u001b[0m\u001b[0m\n\u001b[0m\u001b[0;32m     10\u001b[0m     \u001b[1;32massert\u001b[0m \u001b[0mP\u001b[0m \u001b[1;33m>\u001b[0m \u001b[1;36m0\u001b[0m\u001b[1;33m\u001b[0m\u001b[1;33m\u001b[0m\u001b[0m\n\u001b[0;32m     11\u001b[0m \u001b[1;33m\u001b[0m\u001b[0m\n",
      "\u001b[1;31mAssertionError\u001b[0m: "
     ]
    }
   ],
   "source": [
    "calcula_temperatura_viscosidade(P, V, n, C1N2, C2N2, C3N2, C4N2)"
   ]
  }
 ],
 "metadata": {
  "kernelspec": {
   "display_name": "Python 3",
   "language": "python",
   "name": "python3"
  },
  "language_info": {
   "codemirror_mode": {
    "name": "ipython",
    "version": 3
   },
   "file_extension": ".py",
   "mimetype": "text/x-python",
   "name": "python",
   "nbconvert_exporter": "python",
   "pygments_lexer": "ipython3",
   "version": "3.8.3"
  }
 },
 "nbformat": 4,
 "nbformat_minor": 4
}
