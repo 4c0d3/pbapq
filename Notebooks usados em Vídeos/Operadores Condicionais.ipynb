{
 "cells": [
  {
   "cell_type": "markdown",
   "metadata": {},
   "source": [
    "Algumas premissas para a validade da equação de Bernoulli:\n",
    "\n",
    "- Viscosidade (atrito interno) $\\rightarrow \\mu = 0$\n",
    "- Caudal (ou vazão) constante $\\rightarrow \\Delta V = 0$\n",
    "- Fluxo incompressível $\\rightarrow \\Delta \\rho = 0$\n",
    "- Sem perda de carga (*head loss*) $\\rightarrow H_L = 0$\n",
    "- Sem trabalho de eixo $\\rightarrow H_S = 0$\n",
    "\n",
    "# Recado 1:\n",
    "\n",
    "$$Errado$$    \n",
    "$$ { \\color {red} { \\Delta P = - \\frac {\\Delta v^2 \\rho} {2} - \\Delta z \\cdot \\rho g} } $$\n",
    "\n",
    "$$Correto$$    \n",
    "$$ { \\color {red} { \\Delta P = - \\frac {(v_f^2 - v_i^2) \\rho} {2} - \\Delta z \\cdot \\rho g} } $$"
   ]
  },
  {
   "cell_type": "markdown",
   "metadata": {},
   "source": [
    "# Recado 2: \n",
    "\n",
    "### O deltaV da fórmula não é o deltaV das condições!!!\n",
    "### $\\Delta V$ das premissas é vazão e tem unidade de M³/T.\n",
    "### $\\Delta v$ da equação é velocidade e tem unidade de M/T."
   ]
  },
  {
   "cell_type": "code",
   "execution_count": 18,
   "metadata": {},
   "outputs": [],
   "source": [
    "deltav = 1 #m/s\n",
    "vi = 1 #m/s\n",
    "vf = 2 #m/s\n",
    "rho = 1000 #kg/m3\n",
    "deltaZ = -3 #m\n",
    "g = 9.81 #m/s2\n",
    "\n",
    "viscosidade = False\n",
    "hl = False\n",
    "hs = False\n",
    "\n",
    "def bernoulli (deltav, rho, deltaZ, g, viscosidade, hl, hs):\n",
    "    assert (\n",
    "            not viscosidade and \n",
    "            not hl and\n",
    "            not hs and\n",
    "            g >= 0 and\n",
    "            rho <= 14000 and\n",
    "            (\n",
    "                deltav > 0 and deltaZ < 0 or\n",
    "                deltav < 0 and deltaZ > 0\n",
    "            )\n",
    "           )\n",
    "    #errado\n",
    "    #deltaP = -deltav**2 * rho / 2 - deltaZ * rho * g\n",
    "    #certo\n",
    "    deltaP = -(vf**2-vi**2) * rho / 2 - deltaZ * rho * g\n",
    "    return deltaP"
   ]
  },
  {
   "cell_type": "code",
   "execution_count": 19,
   "metadata": {},
   "outputs": [
    {
     "data": {
      "text/plain": [
       "27930.0"
      ]
     },
     "execution_count": 19,
     "metadata": {},
     "output_type": "execute_result"
    }
   ],
   "source": [
    "bernoulli (deltav, rho, deltaZ, g, viscosidade, hl, hs)"
   ]
  },
  {
   "cell_type": "code",
   "execution_count": null,
   "metadata": {},
   "outputs": [],
   "source": []
  },
  {
   "cell_type": "code",
   "execution_count": null,
   "metadata": {},
   "outputs": [],
   "source": []
  },
  {
   "cell_type": "code",
   "execution_count": null,
   "metadata": {},
   "outputs": [],
   "source": []
  },
  {
   "cell_type": "code",
   "execution_count": null,
   "metadata": {},
   "outputs": [],
   "source": []
  },
  {
   "cell_type": "code",
   "execution_count": null,
   "metadata": {},
   "outputs": [],
   "source": []
  },
  {
   "cell_type": "code",
   "execution_count": null,
   "metadata": {},
   "outputs": [],
   "source": []
  },
  {
   "cell_type": "code",
   "execution_count": null,
   "metadata": {},
   "outputs": [],
   "source": []
  },
  {
   "cell_type": "code",
   "execution_count": 61,
   "metadata": {},
   "outputs": [],
   "source": [
    "assert (\n",
    "        not viscosidade and\n",
    "        not hl and\n",
    "        not hs and\n",
    "        g >= 0 and\n",
    "        rho <= 14000 and\n",
    "        (\n",
    "            deltaV > 0 and deltaZ < 0 or\n",
    "            deltaV < 0 and deltaZ > 0\n",
    "        )\n",
    "    )"
   ]
  },
  {
   "cell_type": "code",
   "execution_count": null,
   "metadata": {},
   "outputs": [],
   "source": []
  },
  {
   "cell_type": "code",
   "execution_count": null,
   "metadata": {},
   "outputs": [],
   "source": []
  },
  {
   "cell_type": "code",
   "execution_count": 3,
   "metadata": {},
   "outputs": [],
   "source": [
    "def var_pressao_eq_bernoulli (delta_v, delta_h, rho = 1, g = 9.81, mu = 0, V = 'cte', comp = 'incompressível'):\n",
    "    assert mu == 0\n",
    "    assert V == 'cte'\n",
    "    assert comp == 'incompressível'\n",
    "    \n",
    "    delta_p = rho*(-g*h - v**2/2)\n",
    "    return delta_p"
   ]
  },
  {
   "cell_type": "code",
   "execution_count": 4,
   "metadata": {},
   "outputs": [],
   "source": [
    "def conversor_temperatura(t, escala_i, escala_f):\n",
    "    \n",
    "    if escala_i == escala_f:\n",
    "        return t\n",
    "    \n",
    "    else:\n",
    "        if escala_i == 'celsius':\n",
    "            if escala_f == 'kelvin':\n",
    "                return t + 273\n",
    "            elif escala_f == 'fahrenheit':\n",
    "                return t * 9/5 + 32\n",
    "            else:\n",
    "                return t * 9/5 + 491.67\n",
    "            \n",
    "        elif escala_i == 'kelvin':\n",
    "            if escala_f == 'celsius':\n",
    "                return t - 273.15\n",
    "            elif escala_f == 'fahrenheit':\n",
    "                return (t - 273.15) * 9/5 + 32\n",
    "            else:\n",
    "                return t * 9/5\n",
    "            \n",
    "        elif escala_i == 'fahrenheit':\n",
    "            if escala_f == 'celsius':\n",
    "                return (t - 32) * 5/9\n",
    "            elif escala_f == 'kelvin':\n",
    "                return (t - 32) * 5/9 + 273.15\n",
    "            else:\n",
    "                return t + 459.67\n",
    "        \n",
    "        else:\n",
    "            if escala_f == 'celsius':\n",
    "                return t * 5/9 - 273.15\n",
    "            elif escala_f == 'kelvin':\n",
    "                return t * 5/9\n",
    "            else:\n",
    "                return t - 459.67        "
   ]
  }
 ],
 "metadata": {
  "kernelspec": {
   "display_name": "Python 3",
   "language": "python",
   "name": "python3"
  },
  "language_info": {
   "codemirror_mode": {
    "name": "ipython",
    "version": 3
   },
   "file_extension": ".py",
   "mimetype": "text/x-python",
   "name": "python",
   "nbconvert_exporter": "python",
   "pygments_lexer": "ipython3",
   "version": "3.8.3"
  }
 },
 "nbformat": 4,
 "nbformat_minor": 4
}
