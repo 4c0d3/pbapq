{
 "cells": [
  {
   "cell_type": "markdown",
   "metadata": {},
   "source": [
    "Premissas para a validade da equação de Bernoulli:\n",
    "- Viscosidade (atrito interno) = 0.\n",
    "- Caudal (ou vazão) constante.\n",
    "- Fluxo incompressível, onde ρ é constante."
   ]
  },
  {
   "cell_type": "code",
   "execution_count": 3,
   "metadata": {},
   "outputs": [],
   "source": [
    "def var_pressao_eq_bernoulli (delta_v, delta_h, rho = 1, g = 9.81, mu = 0, V = 'cte', comp = 'incompressível'):\n",
    "    assert mu == 0\n",
    "    assert V == 'cte'\n",
    "    assert comp == 'incompressível'\n",
    "    \n",
    "    delta_p = rho*(-g*h - v**2/2)\n",
    "    return delta_p"
   ]
  },
  {
   "cell_type": "code",
   "execution_count": 4,
   "metadata": {},
   "outputs": [],
   "source": [
    "def conversor_temperatura(t, escala_i, escala_f):\n",
    "    \n",
    "    if escala_i == escala_f:\n",
    "        return t\n",
    "    \n",
    "    else:\n",
    "        if escala_i == 'celsius':\n",
    "            if escala_f == 'kelvin':\n",
    "                return t + 273\n",
    "            elif escala_f == 'fahrenheit':\n",
    "                return t * 9/5 + 32\n",
    "            else:\n",
    "                return t * 9/5 + 491.67\n",
    "            \n",
    "        elif escala_i == 'kelvin':\n",
    "            if escala_f == 'celsius':\n",
    "                return t - 273.15\n",
    "            elif escala_f == 'fahrenheit':\n",
    "                return (t - 273.15) * 9/5 + 32\n",
    "            else:\n",
    "                return t * 9/5\n",
    "            \n",
    "        elif escala_i == 'fahrenheit':\n",
    "            if escala_f == 'celsius':\n",
    "                return (t - 32) * 5/9\n",
    "            elif escala_f == 'kelvin':\n",
    "                return (t - 32) * 5/9 + 273.15\n",
    "            else:\n",
    "                return t + 459.67\n",
    "        \n",
    "        else:\n",
    "            if escala_f == 'celsius':\n",
    "                return t * 5/9 - 273.15\n",
    "            elif escala_f == 'kelvin':\n",
    "                return t * 5/9\n",
    "            else:\n",
    "                return t - 459.67        "
   ]
  }
 ],
 "metadata": {
  "kernelspec": {
   "display_name": "Python 3",
   "language": "python",
   "name": "python3"
  },
  "language_info": {
   "codemirror_mode": {
    "name": "ipython",
    "version": 3
   },
   "file_extension": ".py",
   "mimetype": "text/x-python",
   "name": "python",
   "nbconvert_exporter": "python",
   "pygments_lexer": "ipython3",
   "version": "3.8.3"
  }
 },
 "nbformat": 4,
 "nbformat_minor": 4
}
