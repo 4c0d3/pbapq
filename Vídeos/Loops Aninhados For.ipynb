{
 "cells": [
  {
   "cell_type": "code",
   "execution_count": 5,
   "metadata": {},
   "outputs": [
    {
     "name": "stdout",
     "output_type": "stream",
     "text": [
      "0.1, 0.8, 0.5\n",
      "0.1, 0.8, 1.25\n",
      "0.1, 1, 0.5\n",
      "0.1, 1, 1.25\n",
      "0.2, 0.8, 0.5\n",
      "0.2, 0.8, 1.25\n",
      "0.2, 1, 0.5\n",
      "0.2, 1, 1.25\n"
     ]
    }
   ],
   "source": [
    "pHs = [0.1, 0.2]\n",
    "concs_ext = [0.8, 1]\n",
    "razoes_ao = [0.5, 1.25]\n",
    "\n",
    "for pH in pHs:\n",
    "    for conc_ext in concs_ext:\n",
    "        for razao_ao in razoes_ao:                \n",
    "            print(str(pH) + ', ' + str(conc_ext) + ', ' + str(razao_ao))"
   ]
  }
 ],
 "metadata": {
  "kernelspec": {
   "display_name": "Python 3",
   "language": "python",
   "name": "python3"
  },
  "language_info": {
   "codemirror_mode": {
    "name": "ipython",
    "version": 3
   },
   "file_extension": ".py",
   "mimetype": "text/x-python",
   "name": "python",
   "nbconvert_exporter": "python",
   "pygments_lexer": "ipython3",
   "version": "3.8.3"
  }
 },
 "nbformat": 4,
 "nbformat_minor": 4
}
