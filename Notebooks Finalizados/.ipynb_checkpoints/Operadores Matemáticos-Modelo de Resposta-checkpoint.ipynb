{
 "cells": [
  {
   "cell_type": "markdown",
   "metadata": {},
   "source": [
    "Eis o esquema simplificado de uma planta de separação de elemento de terras-raras (ETR):"
   ]
  },
  {
   "attachments": {
    "Tempo%20de%20Equil%C3%ADbrio%20%281%29.png": {
     "image/png": "[encoded data removed]"
    }
   },
   "cell_type": "markdown",
   "metadata": {},
   "source": [
    "![Tempo%20de%20Equil%C3%ADbrio%20%281%29.png](attachment:Tempo%20de%20Equil%C3%ADbrio%20%281%29.png)"
   ]
  },
  {
   "cell_type": "markdown",
   "metadata": {},
   "source": [
    "O princípio de separação é muito simples: as propriedades de dois elementos a serem separados, que entram pela fase aquosa, é tal que um dos elementos terá uma maior afinidade que o outro pelo extratante que entra pela fase orgânica. Esse elemento com maior afinidade será extraído numa maior extensão.\n",
    "\n",
    "Num processo de extração por solvente, dois elementos a serem separados entram pela alimentação na fase aquosa, que interage com a fase orgânica numa célula, que carrega os elementos extraídos para fora do processo. A fase aquosa passa a próxima célula para encontrar um novo orgânico; esse novo orgânico irá para a célula da qual a fase aquosa veio, porque o processo é em contra-corrente. Isso se repete n vezes, até que no final das contas, temos um rafinado sem o elemento com maior afinidade pelo extratante orgânico, no final do processo."
   ]
  },
  {
   "cell_type": "markdown",
   "metadata": {},
   "source": [
    "## Problema 1:\n",
    "\n",
    "#### Nós queremos calcular o tempo necessário para que uma separação atinja o regime permanente:"
   ]
  },
  {
   "cell_type": "markdown",
   "metadata": {},
   "source": [
    "Eis as especificações de uma planta mini-piloto, que foi realizada em 03/21 no Centro de Tecnologia Mineral, para separação de Hólmio e Disprósio:\n",
    "\n",
    "Uma célula é composta por um misturador e um decantador:\n",
    "\n",
    "- Dimensões do misturador:\n",
    "        -Largura = 6,3 cm\n",
    "        -Altura = 5,9 cm\n",
    "        -Comprimento = 6,5 cm\n",
    "- Dimensões do decantador:\n",
    "        -Largura = 6,3 cm\n",
    "        -Altura = 5,9 cm\n",
    "        -Comprimento = 10 cm\n",
    "        \n",
    "- Número de Células = 30\n",
    "\n",
    "- Vazão de Alimentação de Fase aquosa = 10 mL/min\n",
    "- Razão Fase Aquosa/Fase Orgânica (Razão A/O) = 0.6\n",
    "\n",
    "\n",
    "    "
   ]
  },
  {
   "cell_type": "markdown",
   "metadata": {},
   "source": [
    "Passo-a-passo:\n",
    "\n",
    "- Calcule a vazão de alimentação da fase orgânica. \n",
    "\n",
    "*Admita que as vazões das fases são constantes ao longo de todo o processo.*\n",
    "\n",
    "- Calcule o volume de fase aquosa no misturador de uma célula \n",
    "\n",
    "*o misturador está cheio e o volume da fase aquosa obedece a proporção entre as fases.*\n",
    "\n",
    "- Calcule o volume da fase orgânica no misturador pelo mesmo procedimento acima.\n",
    "- Calcule o tempo de mistura da fase aquosa, que será o tempo necessário, com a vazão de alimentação dada, para ela atingir o seu respectivo volume para o misturador.\n",
    "- Calcule o tempo de mistura da fase orgânica, para o mesmo procedimento.\n",
    "\n",
    "*Não se preocupe com o tempo de equilíbrio da reação, ele ocorre num tempo inferior ao tempo de mistura*\n",
    "\n",
    "- Calcule o volume das fases no decantador. Ambas as fases terão o mesmo volume, independente da vazão de cada uma. O decantador está cheio. \n",
    "\n",
    "*Uma maior vazão só implica num menor tempo de permanência no decantador, porque a fase estará saindo mais rapidamente, para alimentar a próxima célula.*\n",
    "\n",
    "- Calcule o tempo de permanência de cada fase no decantador, que será o tempo necessário, com a vazão de alimentação dada, para ela atingir o seu respectivo volume.\n",
    "- Calcule o tempo de permanência total numa célula, que é a soma dos tempos de permanência no misturador e no decantador.\n",
    "- Calcule o tempo médio de permanência de uma molécula de água qualquer no processo, que é dado pela soma dos tempos de permanência das células.\n",
    "- Faça o mesmo para uma molécula de iso-parafina, o solvente na fase orgânica.\n",
    "\n",
    "- O tempo para o processo atingir o regime permanente será o maior tempo dentre o tempo médio da água (representante da fase aquosa) e da iso-parafina (representante da fase orgânica)."
   ]
  },
  {
   "cell_type": "code",
   "execution_count": 2,
   "metadata": {},
   "outputs": [
    {
     "data": {
      "text/plain": [
       "(13.822593750000001, 10.10559375)"
      ]
     },
     "execution_count": 2,
     "metadata": {},
     "output_type": "execute_result"
    }
   ],
   "source": [
    "vazao_aq = 10 #em mL/min --------------- lembre que mL = cm³\n",
    "rao = 0.6 \n",
    "l_cel = 6.3 #cm\n",
    "h_cel = 5.9 #cm\n",
    "c_misturador = 6.5 #cm\n",
    "c_decantador = 10 #cm\n",
    "n_cels = 30\n",
    "\n",
    "vazao_org = vazao_aq/rao\n",
    "\n",
    "vol_misturador = l_cel * h_cel * c_misturador #cm³\n",
    "\n",
    "vol_aq_misturador = vol_misturador * vazao_aq /(vazao_aq + vazao_org) #cm³\n",
    "vol_org_misturador = vol_misturador - vol_aq_misturador #cm³\n",
    "\n",
    "tempo_mistura_aq = vol_aq_misturador / vazao_aq #min\n",
    "tempo_mistura_org = vol_org_misturador / vazao_org #min\n",
    "\n",
    "vol_decantador = l_cel * h_cel * c_decantador #cm³\n",
    "\n",
    "vol_aq_decantador = vol_org_decantador = vol_decantador / 2 #cm³\n",
    "\n",
    "tempo_decantacao_aq = vol_aq_decantador / vazao_aq #min\n",
    "tempo_decantacao_org = vol_org_decantador / vazao_org #min\n",
    "\n",
    "tempo_permanencia_celula_aq = tempo_mistura_aq + tempo_decantacao_aq\n",
    "tempo_permanencia_celula_org = tempo_mistura_org + tempo_decantacao_org\n",
    "\n",
    "tempo_permanencia_total_aq = tempo_permanencia_celula_aq * n_cels #min\n",
    "tempo_permanencia_total_org = tempo_permanencia_celula_org * n_cels #min\n",
    "\n",
    "tempo_permanencia_total_aq/60, tempo_permanencia_total_org/60 #horas"
   ]
  },
  {
   "cell_type": "markdown",
   "metadata": {},
   "source": [
    "## Problema 2:\n",
    "\n",
    "#### Agora vamos calcular os ingredientes"
   ]
  },
  {
   "cell_type": "markdown",
   "metadata": {},
   "source": [
    "Por precaução, nós esperamos mais 2 horas após o tempo previsto para atingir o equilíbrio, para fazer a primeira coleta de amostras. Coletar amostra de cada célula, entretanto, altera a vazão de fase aquosa do sistema, colocando-o novamente em regime transiente, mas ele volta ao equilíbrio mais rapidamente do que se tivéssemos que colocá-lo do zero, porque a amostra é pequena. Por conta disso, esperamos mais 2 horas para a 2º coleta e outras 2 horas para a 3º. Dessa forma, a planta de extração funciona o tempo de equilíbrio e mais 6 horas após ele.\n",
    "\n",
    "Com essa informação, calcule:\n",
    "\n",
    "- O volume de fase aquosa total, para o tempo previsto.\n",
    "- O volume de fase orgânica total, para o tempo previsto.\n",
    "\n",
    "*Use um volume 10% maior que o previsto pelo cálculo puro como margem de segurança, por causa das oscilações nas bombas.*\n",
    "\n",
    "*No início do processo, as células já começam cheias com as soluções, nas suas proporções, e novos volumes são adicionados na vazão citada, pelo tempo de operação.* \n",
    "\n",
    "Sabendo que a fase orgânica é composta pelo extratante P507 (26% v/v) e o solvente isoparafina calcule:\n",
    "\n",
    "- O volume de P507 necessário, para o tempo previsto.\n",
    "- O volume de isoparafina.\n",
    "\n",
    "*A pureza do P507 é de 95% v/v. A mistura entre os dois não acarreta diferença de volume significativa.*\n",
    "\n",
    "A fase aquosa é composta por:\n",
    "- 0,01576 mol/L do elemento \"Disprósio\" (Dy)\n",
    "- 0,03118 mol/L do elemento \"Hólmio\" (Ho)\n",
    "\n",
    "As massas molares dos óxidos, usadas para obter o elemento em solução aquosa, são de:\n",
    "- MM Dy<sub>2</sub>O<sub>3</sub> = 372,998 g/mol\n",
    "- MM Ho<sub>2</sub>O<sub>3</sub> = 377,858 g/mol\n",
    "\n",
    "O pH da solução é de 0,25; obtido com ácido clorídrico.\n",
    "\n",
    "- MM HCl = 36,5 g/mol\n",
    "- Densidade HCl = 1179 g/L\n",
    "- Concentração HCl PA = 37% m/m (37g HCl/ 100g solução)\n",
    "\n",
    "Com essas informações, calcule:\n",
    "\n",
    "- A massa de Dy<sub>2</sub>O<sub>3</sub> necessária para a operação no tempo previsto.\n",
    "- A massa de Ho<sub>2</sub>O<sub>3</sub> necessária para a operação no tempo previsto.\n",
    "- O volume de HCl necessário para colocar o volume de solução aquosa em pH 0.25.\n",
    "\n",
    "*Lembre-se que: $[H^+] = 10^{-pH}$*"
   ]
  },
  {
   "cell_type": "code",
   "execution_count": 3,
   "metadata": {},
   "outputs": [
    {
     "data": {
      "text/plain": [
       "(65.2678954351677, 130.81020466672373, 1044.8266073858263)"
      ]
     },
     "execution_count": 3,
     "metadata": {},
     "output_type": "execute_result"
    }
   ],
   "source": [
    "tempo_de_operacao = tempo_permanencia_total_aq + 6 * 60 #min\n",
    "\n",
    "vol_aq = 1.1*((vol_aq_misturador + vol_aq_decantador) * n_cels + tempo_de_operacao * vazao_aq) #mL\n",
    "vol_org = 1.1*((vol_org_misturador + vol_org_decantador) * n_cels + tempo_de_operacao * vazao_org) #mL\n",
    "\n",
    "fracao_p507 = 0.26\n",
    "pureza_p507 = 0.95 #m/m\n",
    "\n",
    "vol_p507 = fracao_p507 * vol_org / pureza_p507 #mL\n",
    "vol_isoparafina = vol_org - vol_p507 #mL\n",
    "\n",
    "c_dy2o3 = 0.01576 #mol/L\n",
    "c_ho2o3 = 0.03118 #mol/L\n",
    "\n",
    "mm_dy2o3 = 372.998 #g/mol\n",
    "mm_ho2o3 = 377.858 #g/mol\n",
    "\n",
    "c_gl_dy2o3 = c_dy2o3 * mm_dy2o3 / 2 #g/L\n",
    "c_gl_ho2o3 = c_ho2o3 * mm_ho2o3 / 2 #g/L\n",
    "\n",
    "m_dy2o3 = c_gl_dy2o3 * vol_aq / 1000 #g\n",
    "m_ho2o3 = c_gl_ho2o3 * vol_aq / 1000 #g\n",
    "\n",
    "H_solucao = 10 ** - 0.25 #mol/L\n",
    "\n",
    "mm_hcl = 36.5 #g/mol\n",
    "d_hcl = 1179 #g/L\n",
    "c_mm_hcl = 0.37 #gHCl/gSol\n",
    "c_molar_hcl = c_mm_hcl * d_hcl / mm_hcl #mol/L\n",
    "\n",
    "v_hcl = vol_aq * H_solucao / c_molar_hcl #mL\n",
    "m_dy2o3, m_ho2o3, v_hcl #g, g, mL"
   ]
  },
  {
   "cell_type": "markdown",
   "metadata": {},
   "source": [
    "## Problema 3:\n",
    "\n",
    "Não é incomum usar H<sub>2</sub>SO<sub>4</sub>, em vez do HCl, como ácido mineral para a alimentação aquosa. Se esse fosse o caso, qual volume de ácido sulfúrico deveríamos adicionar para obter pH = 0,25?\n",
    "\n",
    "Lembre-se que apenas o primeiro H<sup>+</sup> é completamente doado em meio aquoso, e o HSO<sub>4</sub><sup>-</sup> é um ácido fraco. O pKa <sub>HSO<sub>4</sub><sup>-</sup>/SO<sub>4</sub><sup>2-</sup></sub> = 1,98.\n",
    "O percentual da população de uma espécie quimica com propriedades ácido-base, monoprótica, na forma protonada, é dada por:\n",
    "\n",
    "$$ \\alpha = {[HA] \\over (Ka + [H^+])} \\cdot 100$$\n",
    "\n",
    "*Lembre-se que: $ K_a = 10^{-pK_a}$*\n",
    "\n",
    "*Como o primeiro H<sup>+</sup> do H<sub>2</sub>SO<sub>4</sub> é completamente doado, não precisamos considerar a curva de especiação de um ácido diprótico.*\n",
    "\n",
    "Informações do H<sub>2</sub>SO<sub>4</sub>:\n",
    "\n",
    "- MM H<sub>2</sub>SO<sub>4</sub> = 98,079 g/mol\n",
    "- Densidade H<sub>2</sub>SO<sub>4</sub> PA = 1830 g/L\n",
    "- Concentração H<sub>2</sub>SO<sub>4</sub> PA = 96% m/m"
   ]
  },
  {
   "cell_type": "code",
   "execution_count": 9,
   "metadata": {},
   "outputs": [
    {
     "data": {
      "text/plain": [
       "684.6256704435236"
      ]
     },
     "execution_count": 9,
     "metadata": {},
     "output_type": "execute_result"
    }
   ],
   "source": [
    "mm_h2so4 = 98.079 #g/mol\n",
    "d_h2so4 = 1830 #g/L\n",
    "c_mm_h2so4 = 0.96 #gHCl/gSol\n",
    "c_molar_h2so4 = c_mm_h2so4 * d_h2so4 / mm_h2so4 #mol/L\n",
    "pKa_h2so4 = 1.98\n",
    "\n",
    "Ka_h2so4 = 10 ** -pKa_h2so4\n",
    "proporcao_hso4 = H_solucao / (Ka_h2so4 + H_solucao)\n",
    "c_H_efetivo_h2so4 = c_molar_h2so4 * (2 - proporcao_hso4) #mol/L\n",
    "\n",
    "v_h2so4 = vol_aq * H_solucao / c_H_efetivo_h2so4 #mL\n",
    "v_h2so4 #mL"
   ]
  },
  {
   "cell_type": "markdown",
   "metadata": {},
   "source": [
    "## Problema 4\n",
    "\n",
    "Uma pequena empresa opera com sistema de batelada e sua matéria-prima só é vendida em lotes de 10 garrafas de 1L cada. Como o dono é um pequeno empresário, ele comprou a quantidade mínima para produzir uma batelada.\n",
    "\n",
    "Cada processo de batelada usa 375L da substancia x. Para manter sempre um controle rigoroso, depois de cada processo ele atualiza seu estoque para  evitar que se compre mais matéria prima do que o necessário na proxima encomenda.\n",
    "\n",
    "Quantos litros foram computados no estoque ao fim do primeiro processo?"
   ]
  },
  {
   "attachments": {
    "batelada.png": {
     "image/png": "[encoded data removed]"
    }
   },
   "cell_type": "markdown",
   "metadata": {},
   "source": [
    "![batelada.png](attachment:batelada.png)"
   ]
  },
  {
   "cell_type": "code",
   "execution_count": 2,
   "metadata": {},
   "outputs": [
    {
     "data": {
      "text/plain": [
       "5"
      ]
     },
     "execution_count": 2,
     "metadata": {},
     "output_type": "execute_result"
    }
   ],
   "source": [
    "Vlote = 10 #L\n",
    "Vbatelada = 375 #L\n",
    "n_lotesComprados = Vbatelada // Vlote + 1\n",
    "\n",
    "litrosRestantes = n_lotesComprados * Vlote - Vbatelada\n",
    "litrosRestantes"
   ]
  },
  {
   "cell_type": "markdown",
   "metadata": {},
   "source": [
    "## Problema 5:\n",
    "\n",
    "Ureia é um dos fertilizantes mais importantes na indústria. Dentre outras propriedades, ele possui a maior carga de nitrogênio dentre os fertilizantes produzidos em larga escala. Plantas de produção de ureia costumam estar perto de plantas de produção de amônia, seu reagente principal, porque os custos de transporte da amônia a longas distâncias é alto. Além disso, ureia é um dos poucos compostos comercialmente viáveis capazes de dar uma finalidade ao $CO_2$, que é produzido na síntese da amônia.\n",
    "\n",
    "A reação de obtenção de ureia $[(NH_2)_2CO]$ industrialmente é feita pela seguinte reação:\n",
    "\n",
    "$$ 2NH_3 + CO_2 \\rightarrow NH_2COONH_4 \\phantom{aaaaaaaaaaaaaaa} \\Delta Hr = -117 kJ/mol $$  \n",
    "$$ NH_2COONH_2 → (NH_2)_2CO + H_2O \\phantom{aaaaaaaaaaaa} \\Delta Hr = +15.5 kJ/mol $$\n",
    "\n",
    "Como é possível ver, a reação global é exotérmica e a temperatura do meio precisa ser mantida por meio de trocadores de calor.\n",
    "\n",
    "Pelo processo *Snamprogetti*, ureia é sintetizada em 150 bar e 185ºC, numa razão não estequimétrica de $3.5NH_3:1CO_2$. Essas condições de operação geram um meio extremamente corrosivo. Se não houver um devido cuidado de manutenção e escolha de materiais, isso pode resultar em acidentes.\n",
    "\n",
    "Num belo dia, por alguma razão, houve uma falha na válvula do trocador de calor, fazendo com que fluido frio não chegasse ao reator, onde a temperatura e pressão começou a subir. Devido as más condições de manutenção do reator, ele cedeu antes que qualquer medida fosse tomada. Um alarme de nível baixo foi acionado e os operadores fecharam as válvulas de alimentação.\n",
    "\n",
    "O nosso objetivo agora é estimar o tamanho e as consequências do desastre no pior dos casos, o que será feito numa série de exercícios ao longo de algumas semanas do curso. Nesse primeiro momento, devemos descobrir a quantidade de amônia vazada.\n",
    "\n",
    "Quando você chegou no local do acidente, toda a amônia já havia vazado, se dispersado e sido carregada pelo vento, dessa forma, você fez algumas consultas ao local e falou com os responsáveis da operação e descobriu que:\n",
    "\n",
    "- Sobre o reator:\n",
    "    - Pode ser aproximado por um cilindro em pé\n",
    "    - Altura de 9m\n",
    "    - Diâmetro da seção transversal: 2.9m\n",
    "    - Altura de líquido no momento do vazamento: 6m\n",
    "    - Altura do furo: 1m\n",
    "    - Diâmetro do furo: 1cm\n",
    "\n",
    "- Pressão de vazamento:\n",
    "    - 190 bar\n",
    "    - Assumida constante ao longo do vazamento\n",
    "\n"
   ]
  },
  {
   "attachments": {
    "Reator%20Ureia.png": {
     "image/png": "[encoded data removed]"
    }
   },
   "cell_type": "markdown",
   "metadata": {},
   "source": [
    "![Reator%20Ureia.png](attachment:Reator%20Ureia.png)"
   ]
  },
  {
   "cell_type": "markdown",
   "metadata": {},
   "source": [
    "Uma vez que toda a coluna de líquido havia saído, toda a coluna de gás também saiu até as atmosferas entrarem em equilíbrio. Entretanto, para fins de estimativa, você supôs que a quantidade de gás vazada foi magnitudes inferior a quantidade de líquido, e desconsiderou. Você estimou que a magnitude da vazão pelo furo de vazamento é muito superior a vazão de saída do reator, que você desconsiderou, portanto, nos cálculos. \n",
    "\n",
    "O reator opera em regime contínuo. A produção de ureia, num dia normal, é de cerca de 1500kg. Toda a amônia em excesso é recirculada para o reator e a proporção de amônia em excesso já é conhecida. Você assumiu que a cinética da reação nas pressões e temperaturas permitiriam uma cinética de reação praticamente instantânea e rendimento tendendo a 100%, de forma que quando a alimentação foi cortada, toda a amônia em excesso reagiu para formar ureia.\n",
    "\n",
    "Você buscou, então, na literatura, equações que te dissessem quanta amônia vazou, com qual vazão e por quanto tempo.\n",
    "O que você encontrou foram as seguintes equações:\n",
    "\n",
    "Para a quantidade de líquido vazada, em massa:\n",
    "\n",
    "$$ m = \\rho \\Delta H A $$\n",
    "\n",
    "Onde $A$ é a área da seção transversal do reator e $\\Delta H$ a altura da coluna de líquido vazada e $\\rho$ a densidade do fluido vazado. Valores tabelados na literatura de um fluido com amônia, ureia e água, em altas pressões e temperaturas não foram encontrados e você decidiu calcular uma densidade média com as densidades que você encontrou para amônia líquida uma solução concentrada de ureia (50/50 molar) nessas condições:\n",
    "\n",
    "$\\rho_{H_2O+Ureia} = 991 kg/m³$ e $\\rho_{NH_3} = 450kg/m³$\n",
    "\n",
    "Você facilmente deduziu que as proporções nesse fluido eram de $1.5NH_3: 1H_2O:1Ureia$ e fez os cálculos de acordo, usando:\n",
    "\n",
    "$$\\rho = {\\rho_{H_2O+Ureia}\\cdot (MM_{H_2O} + MM_{Ureia}) + 1.5 \\rho_{NH_3} \\cdot MM_{NH_3} \n",
    "\\over 1.5 MM_{NH_3} + MM_{H_2O} + MM_{Ureia}}$$\n",
    "\n",
    "Conhecendo a massa total vazada e a proporção de amônia nela, você determinou a massa de amônia vazada.\n",
    "\n",
    "Para a vazão de líquido que saía pelo furo, você encontrou a seguinte relação dependente do tempo:\n",
    "\n",
    "$$ Q_m = \\rho C_0 A \\sqrt {2 \\biggl({P - P_{atm} \\over \\rho } + g \\Delta H \\biggr)} - {\\rho g C_0^2 A^2 \\over A_t} t$$\n",
    "\n",
    "E você descobriu que o tempo de vazamento poderia ser obtido pela equação:\n",
    "\n",
    "$$ t = {1 \\over C_0 g} {A_t \\over A}\\Bigg[\\sqrt{2 \\biggl({P - P_{atm} \\over \\rho } + g \\Delta H \\biggr)} - \\sqrt{2\\biggl({P - P_{atm} \\over \\rho }} \\biggr)\\Bigg]$$\n",
    "\n",
    "Onde $A$ é o diâmetro do furo. $A_t$ o diâmetro da seção transversal do reator, $C_0 = 0.61$ é um coeficiente de atrito determinado empiricamente, cujo valor você encontrou na literatura; $g$ é a aceleração do campo gravitacional terrestre e $\\Delta H$ é a altura da coluna de líquido acima do furo no momento $t = 0$ do vazamento.\n",
    "\n",
    "Lembre-se de fazer as conversões de unidade corretas. \n",
    "\n",
    "Sugestões: \n",
    "- Opte por trabalhar no SI.\n",
    "- $\\pi$, $g$ e $Patm$ não foram fornecidos, mas você pode encontrá-los.\n",
    "- Mostre as variáveis de saída como um display, divida o tempo em horas, minutos e segundos usando // e %.\n",
    "- Obtenha o $t$ para descobrir $Q_m$ por um input do usuário. \n",
    "\n",
    "*Se você colocar um $t$ superior ao tempo de vazamento calculado, a equação, obviamente, perderá sentido físico.*\n"
   ]
  },
  {
   "cell_type": "code",
   "execution_count": 1,
   "metadata": {},
   "outputs": [
    {
     "name": "stdout",
     "output_type": "stream",
     "text": [
      "tempo, em (s): 0\n",
      "a massa total de amônia vazada foi de 6979 kg \n",
      "A vazão pelo furo no tempo 0 s foi de 8.64 kg/s \n",
      "O tempo total de vazamento foi de 0 horas, 27 minutos e 21 segundos.\n"
     ]
    }
   ],
   "source": [
    "#-----------Entrada----------------\n",
    "Hfuro = 1 # m\n",
    "Hliq = 6 # m\n",
    "Dreator = 2.9 # m\n",
    "Dfuro = 1 # cm\n",
    "\n",
    "P = 190 # bar\n",
    "Patm = 1 # atm\n",
    "\n",
    "rho_h2oUreia = 991 # kg/m3\n",
    "rho_nh3 = 450 # kg/m3\n",
    "MMh2o = 18 # g/mol\n",
    "MMureia = 60 # g/mol\n",
    "MMnh3 = 17 # g/mol\n",
    "razao_nh3ureia = 1.5\n",
    "\n",
    "c0 = 0.61\n",
    "g = 9.81 # m/s2\n",
    "pi = 3.14159265359\n",
    "\n",
    "#----------Tratamento--------------\n",
    "Dfuro = Dfuro/100 # m\n",
    "P = P * 1e5 # Pa\n",
    "Patm = Patm * 101325 # Pa\n",
    "\n",
    "#----------Manipulações------------\n",
    "rho = ((rho_h2oUreia * (MMh2o + MMureia) + razao_nh3ureia * rho_nh3 * MMnh3)\n",
    "       /(razao_nh3ureia * MMnh3 + MMh2o + MMureia)) # kg/m3\n",
    "Afuro = pi*Dfuro**2/4 # m2\n",
    "Areator = pi*Dreator**2/4 # m2\n",
    "deltaH = Hliq - Hfuro # m\n",
    "\n",
    "#------------Dummies---------------\n",
    "t = int(input(\"tempo, em (s): \"))\n",
    "\n",
    "#------------Variáveis de Resposta--------------\n",
    "m = rho * deltaH * Areator # kg\n",
    "mnh3 = m * razao_nh3ureia * MMnh3 / (razao_nh3ureia * MMnh3 + MMh2o + MMureia) # kg\n",
    "Qm = rho*c0*Afuro * (2*((P - Patm)/rho + g*deltaH))**0.5 - rho*g*c0**2*Afuro**2*t/Areator # kg/s\n",
    "t_total = (1/c0/g)*(Areator/Afuro)*( ((2*(P - Patm)/rho + g*deltaH))**0.5 - (2*(P - Patm)/rho)**0.5 ) # s\n",
    "\n",
    "th = int(t_total//3600) # h\n",
    "tmin = int((t_total%3600)//60) # min\n",
    "ts = int((t_total%3600)%60) # s\n",
    "\n",
    "print(\"a massa total de amônia vazada foi de \" + str(int(mnh3)) + \" kg \\n\"\n",
    "      + \"A vazão pelo furo no tempo \" + str(t) + \" s foi de \" + str(round(Qm, 2)) + \" kg/s \\n\"\n",
    "      + \"O tempo total de vazamento foi de \" + str(th) + \" horas, \" + str(tmin) + \" minutos e \" + str(ts) + \" segundos.\")\n",
    "\n",
    "# você consegue explicar porque a vazão praticamente não muda, apesar da coluna de líquido variar tanto?"
   ]
  }
 ],
 "metadata": {
  "kernelspec": {
   "display_name": "Python 3",
   "language": "python",
   "name": "python3"
  },
  "language_info": {
   "codemirror_mode": {
    "name": "ipython",
    "version": 3
   },
   "file_extension": ".py",
   "mimetype": "text/x-python",
   "name": "python",
   "nbconvert_exporter": "python",
   "pygments_lexer": "ipython3",
   "version": "3.8.3"
  }
 },
 "nbformat": 4,
 "nbformat_minor": 4
}
