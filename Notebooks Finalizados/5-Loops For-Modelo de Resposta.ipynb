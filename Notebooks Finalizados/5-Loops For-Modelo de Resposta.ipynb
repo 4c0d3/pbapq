{
 "cells": [
  {
   "attachments": {
    "Fogo%20no%20Parquinho.jpg": {
     "image/jpeg": "[encoded data removed]"
    }
   },
   "cell_type": "markdown",
   "metadata": {},
   "source": [
    "## Problema 1:\n",
    "\n",
    "Vamos (finalmente) plotar a pluma do nosso vazamento de amônia.\n",
    "\n",
    "Nós tínhamos calculado o quanto que vazou, depois calculamos a taxa de evaporação. Agora, vamos plotar o gráfico de pluma, que nada mais é do que a superfície de contorno gerada por vários pontos $X, Y$ num diagrama cartesiano.\n",
    "\n",
    "Quando nós fazemos esse tipo de gráfico, é bem interessante que usemos classificações específicas das áreas do gráfico, que nos informem quais regiões representam qual perigo. Assim, podemos ter pegar rapidamente a noção da gravidade do problema.\n",
    "\n",
    "Os AEGL [(Acute Exposure Guideline Levels ou Níveis de Indicação de Exposição Aguda)](https://en.wikipedia.org/wiki/Acute_Exposure_Guideline_Levels) nos dão valores os quais, num certo tempo de exposição, concentrações acima dele gerarão certos efeitos nas pessoas expostas.\n",
    "\n",
    "Acima do valor de AEGL-1: desconforto e irritação poderá ser sentida enquanto a exposição durar.  \n",
    "Acima do valor de AEGL-2: danos permanentes ou de longa duração ou inabilidade de escapar do ambiente (desmaio ou perda de visão temporária) poderá ser sentido.  \n",
    "Acima do valor de AEGL-3: efeitos que comprometam a vida ou fatalidades podem acontecer.  \n",
    "\n",
    "Para a amônia, estes são os valores de AEGL, para 1 hora de exposição:\n",
    "\n",
    "|      |Concentração (ppm)    |\n",
    "|:----:|:--------------------:|\n",
    "|AEGL-1| 30                   |\n",
    "|AEGL-2| 160                  |\n",
    "|AEGL-3| 1100                 |\n",
    "\n",
    "Sua missão, agora, é gerar vários pontos, usando as funções que você construiu na semana 3, de operadores lógicos e condicionais. Como você bem deve lembrar, a concentração cai bruscamente com a distância da poça. Por conta disso, para criar um gráfico fidedigno, a sua lista de pontos não deve ser linear, mas deve conter mais pontos próximos da origem do gráfico. A lista de pontos para se obter os valores de concentração deve estar em escala *logarítmica* (preferencialmente de base 10). Isto quer dizer que os pontos próximos da origem deverão ter um espaçamento menor, como de 1 em 1m, e mais pro final, digamos X = 5Km e Y = 5Km, de 100 em 100m. Considere incluir espaçamentos diferentes na direção X e Y, visto que as concentrações decaem muito mais rapidamente em Y.\n",
    "\n",
    "Dicas e Notas:\n",
    "\n",
    "- Já vou deixar pra você aqui as coisas da semana 3 que você vai precisar.\n",
    "- Opte por usar a compreensão de listas para fazer as listas de pontos.\n",
    "- Não se preocupe com a confecção dos gráficos, mas gere resultados num formato que seja aceito, conforme segue:\n",
    "    - Crie três listas, de nomes:\n",
    "        - x1s: conterá os pontos X (sempre positivos)\n",
    "        - y1s: conterá os pontos Y > 0;\n",
    "        - y2s: conterá os pontos Y < 0;\n",
    "    - Use exatamente estes nomes para as listas.\n",
    "    \n",
    "    \n",
    "- Visualize o efeito do desastre no Google Maps:\n",
    "    - Coloque X e Y variando entre o mesmo valor (ex: 0 e 10000m)\n",
    "    - Printe e salve a imagem.\n",
    "    - Abra o Google Maps e pegue o local de uma planta de fertilizantes nitrogenados (sugestão: FAFEN-SE).\n",
    "        - Printe o local, com a escala vísivel.\n",
    "    - Abra algum editor imagem (o [Canva](https://www.canva.com/) serve perfeitamente).\n",
    "    - Diminua a opacidade da pluma (pode ser interessante [remover o fundo dela](https://www.remove.bg/pt-br/upload)).\n",
    "    - Sobreponha a pluma na imagem do Google Maps.\n",
    "    - Contemple o desaste. Ele é grave? Qual o potencial desse acidente? Provavelmente haveria mortos? Qual seria a repercussão do acidente? Qual seria o dano à empresa?\n",
    "    \n",
    "![Fogo%20no%20Parquinho.jpg](attachment:Fogo%20no%20Parquinho.jpg)"
   ]
  },
  {
   "cell_type": "code",
   "execution_count": 6,
   "metadata": {},
   "outputs": [],
   "source": [
    "import math as m\n",
    "pi = m.pi \n",
    "e = m.e\n",
    "ln = lambda x: m.log(x, e)\n",
    "log10 = lambda x: m.log(x, 10)\n",
    "\n",
    "def conversor_temperatura(t, escala_i, escala_f):\n",
    "    \n",
    "    if escala_i == escala_f:\n",
    "        return t\n",
    "    \n",
    "    else:\n",
    "        if escala_i == 'celsius':\n",
    "            if escala_f == 'kelvin':\n",
    "                return t + 273.15\n",
    "            elif escala_f == 'fahrenheit':\n",
    "                return t * 9/5 + 32\n",
    "            else:\n",
    "                return t * 9/5 + 491.67\n",
    "            \n",
    "        elif escala_i == 'kelvin':\n",
    "            if escala_f == 'celsius':\n",
    "                return t - 273.15\n",
    "            elif escala_f == 'fahrenheit':\n",
    "                return (t - 273.15) * 9/5 + 32\n",
    "            else:\n",
    "                return t * 9/5\n",
    "            \n",
    "        elif escala_i == 'fahrenheit':\n",
    "            if escala_f == 'celsius':\n",
    "                return (t - 32) * 5/9\n",
    "            elif escala_f == 'kelvin':\n",
    "                return (t - 32) * 5/9 + 273.15\n",
    "            else:\n",
    "                return t + 459.67\n",
    "        \n",
    "        else:\n",
    "            if escala_f == 'celsius':\n",
    "                return t * 5/9 - 273.15\n",
    "            elif escala_f == 'kelvin':\n",
    "                return t * 5/9\n",
    "            else:\n",
    "                return t - 459.67\n",
    "\n",
    "def classeEstabilidade():\n",
    "    \"\"\" \n",
    "    assegurar que se caso dia ou noite seja escolhido, informação correta sobre o tempo é inputada.\n",
    "    evitando algo como \"noite com insolação forte\" ou \n",
    "    \"dia parcialmente nublado (que embora possível, deve ser colocado em termos de insolação)\". \n",
    "    \"\"\"\n",
    "    assert horario >= 0 and horario <= 24\n",
    "    assert (\n",
    "        horario >= 7 and horario <= 17 and \n",
    "        (condTempo == 'forte' or condTempo == 'medio' or condTempo == 'fraco' or condTempo == 'completamente nublado') or \n",
    "        \n",
    "        (horario >= 0 and horario <= 6 or horario >= 18 and horario <= 24) and\n",
    "        (condTempo == 'parcialmente nublado' or condTempo == 'claro' or condTempo == 'completamente nublado')\n",
    "    )\n",
    "    #-------------------------------------------------------------------------------------------------------------\n",
    "    \n",
    "    if (horario >= 6 and horario <= 7 or horario >= 17 and horario <= 18) or condTempo == 'completamente nublado':\n",
    "        return 'D'\n",
    "    \n",
    "    elif horario >= 7 and horario <= 17:\n",
    "        if condTempo == 'forte':\n",
    "            if u <= 3:\n",
    "                return 'A'\n",
    "            elif u <= 4:\n",
    "                return 'B'\n",
    "            else:\n",
    "                return 'C'                \n",
    "            \n",
    "        elif condTempo == 'medio':\n",
    "            if u <= 2:\n",
    "                return 'A'\n",
    "            elif u <= 3:\n",
    "                return 'B'\n",
    "            elif u <= 6:\n",
    "                return 'C'\n",
    "            else:\n",
    "                return 'D'\n",
    "            \n",
    "        else:\n",
    "            if u <= 2:\n",
    "                return 'B'\n",
    "            elif u <= 4:\n",
    "                return 'C'\n",
    "            else:\n",
    "                return 'D'\n",
    "            \n",
    "    else:\n",
    "        if condTempo == 'parcialmente nublado':\n",
    "            if u <= 2:\n",
    "                return 'F'\n",
    "            elif u <= 3:\n",
    "                return 'E'\n",
    "            else:\n",
    "                return 'D'\n",
    "        else:\n",
    "            if u <= 3:\n",
    "                return 'F'\n",
    "            elif u <= 4:\n",
    "                return 'E'\n",
    "            else:\n",
    "                return 'D' \n",
    "\n",
    "def sigma(x):\n",
    "    assert type(isRural) == bool # isRural deve ser um input de True ou False.\n",
    "    classe_estabilidade = classeEstabilidade().capitalize() \n",
    "    \"\"\"\n",
    "    um truquezinho p/ garantir que tanto letras maiúsculas e minúsculas serão reconhecidas.\n",
    "    Ele passa tudo para maiúsculo.\n",
    "    \"\"\"   \n",
    "    if isRural:\n",
    "        if classe_estabilidade == 'A':\n",
    "            sigmay = 0.22*x*(1 + 0.0001*x)**(-1/2)\n",
    "            sigmaz = 0.2*x\n",
    "        elif classe_estabilidade == 'B':\n",
    "            sigmay = 0.16*x*(1 + 0.0001*x)**(-1/2)\n",
    "            sigmaz = 0.12*x\n",
    "        elif classe_estabilidade == 'C':\n",
    "            sigmay = 0.11*x*(1 + 0.0001*x)**(-1/2)\n",
    "            sigmaz = 0.08*x*(1 + 0.0002*x)**(-1/2)\n",
    "        elif classe_estabilidade == 'D':\n",
    "            sigmay = 0.08*x*(1 + 0.0001*x)**(-1/2)\n",
    "            sigmaz = 0.06*x*(1 + 0.00015*x)**(-1/2)\n",
    "        elif classe_estabilidade == 'E':\n",
    "            sigmay = 0.06*x*(1 + 0.0001*x)**(-1/2)\n",
    "            sigmaz = 0.03*x*(1 + 0.0003*x)**-1\n",
    "        else:\n",
    "            sigmay = 0.04*x*(1 + 0.0001*x)**(-1/2)\n",
    "            sigmaz = 0.016*x*(1 + 0.0003*x)**-1\n",
    "            \n",
    "    else:\n",
    "        if classe_estabilidade == 'A' or classe_estabilidade == 'B':\n",
    "            sigmay = 0.32*x*(1 + 0.0004*x)**(-1/2)\n",
    "            sigmaz = 0.24*x*(1 + 0.0001*x)**(1/2)\n",
    "        elif classe_estabilidade == 'C':\n",
    "            sigmay = 0.22*x*(1 + 0.0004*x)**(-1/2)\n",
    "            sigmaz = 0.2*x\n",
    "        elif classe_estabilidade == 'D':\n",
    "            sigmay = 0.16*x*(1 + 0.0004*x)**(-1/2)\n",
    "            sigmaz = 0.14*x*(1 + 0.0003*x)**(-1/2)\n",
    "        else:\n",
    "            sigmay = 0.11*x*(1 + 0.0004*x)**(-1/2)\n",
    "            sigmaz = 0.08*x*(1 + 0.0015*x)**(-1/2)\n",
    "            \n",
    "    return sigmay, sigmaz    \n",
    "\n",
    "def concentracao(x, y):\n",
    "    \"\"\"\n",
    "    experimente o modelo para valores muito pequenos de x e veja que ele perde completamente o significado físico.\n",
    "    \"\"\"\n",
    "    k = K()    \n",
    "    psat = Psat()\n",
    "    q = Q()\n",
    "    classe_estabilidade = classeEstabilidade()\n",
    "    sigmay, sigmaz = sigma(x)\n",
    "    \n",
    "    conc = q/pi/u/sigmay/sigmaz * e**(-1/2 * y**2/sigmay**2) *1e6\n",
    "    return conc  "
   ]
  },
  {
   "cell_type": "code",
   "execution_count": 2,
   "metadata": {},
   "outputs": [],
   "source": [
    "#------------Dados Metereológicos da Fafen-SE.------------------\n",
    "T = 24 #ºC\n",
    "T = conversor_temperatura(T, 'celsius', 'kelvin') #A variável T está sendo sobreescrita, usando a T velha como argumento.\n",
    "u = 0.8 #m/s ---> velocidade do vento\n",
    "isRural = False\n",
    "horario = 7\n",
    "condTempo = 'completamente nublado'\n",
    "\n",
    "#------------Dados para os modelos------------------\n",
    "\n",
    "A = 1000 #m²\n",
    "R = 8.314 #J/K/mol\n",
    "\n",
    "K0 = 0.83 #cm/s\n",
    "M0 = 18 #g/mol\n",
    "M = 17 #g/mol\n",
    "\n",
    "c1= 90 \n",
    "c2= -4669.7 \n",
    "c3= -11.607 \n",
    "c4= 1.72e-2 \n",
    "c5= 1 \n",
    "\n",
    "#----------------Conversões SI----------------------\n",
    "K0 = K0/100 #m/s\n",
    "M0 = M0/1000 #kg/mol\n",
    "M = M/1000 #kg/mol\n",
    "\n",
    "#--------------------Funções-------------------------\n",
    "K = lambda: K0 * (M0/M)**(1/3)\n",
    "Psat = lambda: e**(c1 + c2/T + c3*ln(T) + c4*T**c5)\n",
    "Q = lambda: M*K()*A*Psat()/R/T"
   ]
  },
  {
   "cell_type": "code",
   "execution_count": 3,
   "metadata": {},
   "outputs": [],
   "source": [
    "x1s = [10**(i/100) for i in range(0, 400)]\n",
    "y1s = [10**(i/100) for i in range(0, 400)]\n",
    "y2s = [-10**(i/100) for i in range(0, 400)]"
   ]
  },
  {
   "cell_type": "code",
   "execution_count": 4,
   "metadata": {},
   "outputs": [
    {
     "name": "stderr",
     "output_type": "stream",
     "text": [
      "C:\\ProgramData\\Anaconda3\\lib\\site-packages\\matplotlib\\backends\\backend_agg.py:214: RuntimeWarning: Glyph 9 missing from current font.\n",
      "  font.set_text(s, 0.0, flags=flags)\n",
      "C:\\ProgramData\\Anaconda3\\lib\\site-packages\\matplotlib\\backends\\backend_agg.py:183: RuntimeWarning: Glyph 9 missing from current font.\n",
      "  font.set_text(s, 0, flags=flags)\n"
     ]
    },
    {
     "data": {
      "image/png": "[encoded data removed]",
      "text/plain": [
       "<Figure size 1008x720 with 2 Axes>"
      ]
     },
     "metadata": {
      "needs_background": "light"
     },
     "output_type": "display_data"
    }
   ],
   "source": [
    "import numpy as np\n",
    "from numpy import ma\n",
    "import matplotlib.pyplot as plt\n",
    "from matplotlib import ticker, cm\n",
    "import matplotlib.colors as colors\n",
    "import matplotlib.cbook as cbook\n",
    "\n",
    "aegl1 = 30 #mg/m³\n",
    "aegl2 = 160 #mg/m³\n",
    "aegl3 = 1100 #mg/m³\n",
    "\n",
    "X1s, Y1s = np.meshgrid(x1s, y1s)\n",
    "X2s, Y2s = np.meshgrid(x1s, y2s)\n",
    "Concentracoes1 = concentracao(X1s, Y1s)\n",
    "Concentracoes2 = concentracao(X2s, Y2s)\n",
    "Concentracoes1 = ma.masked_where(Concentracoes1 < 10, Concentracoes1)\n",
    "Concentracoes2 = ma.masked_where(Concentracoes2 < 10, Concentracoes2)\n",
    "gambiarra1, gambiarra2 = np.meshgrid(np.array([0, 1]), np.array([0, 1]))\n",
    "\n",
    "\n",
    "fundo = plt.figure(figsize = (14, 10))\n",
    "contorno = fundo.add_subplot(1, 1, 1)\n",
    "\n",
    "gambiarra = contorno.contourf(gambiarra1, gambiarra2, gambiarra2, cmap = cm.Blues, \n",
    "                              levels = [aegl1, aegl2, aegl3])\n",
    "metadeSuperior = contorno.contourf(X1s, Y1s, Concentracoes1, cmap = cm.Blues,\n",
    "                                   norm=colors.LogNorm(vmin=aegl1, vmax=aegl3), levels = [aegl1, aegl2, aegl3, 1e6])\n",
    "metadeInferior = contorno.contourf(X2s, Y2s, Concentracoes2, cmap = cm.Blues, \n",
    "                                   norm=colors.LogNorm(vmin=aegl1, vmax=aegl3), levels = [aegl1, aegl2, aegl3, 1e6])\n",
    "contorno.set_ylabel('Y')\n",
    "contorno.set_xlabel('X')\n",
    "contorno.set_title(\"Azul Claro > AEGL1 \\t \\t \\t Azul > AEGL2  \\t \\t \\t Azul Escuro > AEGL3\")\n",
    "contorno.set_ylim(-2000, 2000)\n",
    "contorno.set_xlim(0, 10000)\n",
    "cb = fundo.colorbar(gambiarra, ax=contorno)"
   ]
  },
  {
   "cell_type": "markdown",
   "metadata": {},
   "source": [
    "## Problema 2:\n",
    "\n",
    "Interpolação e extrapolação linear são duas técnicas muito comuns para obtermos alguma propriedade tabelada, cujos valores na tabela não são precisamente o que queremos, mas estão suficientemente próximos.\n",
    "\n",
    "Para dois pontos $x_1$ e $x_2$, $x_1 < x_2$, cujas propriedades $y_1$ e $y_2$ pertencentes aos pontos estejam tabeladas, podemos descobrir a propriedade $y$ de um terceiro ponto $x$ não tabelado, usando interpolação, caso $x_1 < x < x_2$ ou extrapolação, caso $x < x_1$ ou $x > x_2$.\n",
    "\n",
    "Para que a interpolação ou extrapolação linear sejam válidas, a função deve ser contínua no intervalo e com comportamento linear (ou suficientemente próximo do linear). Principalmente para extrapolações, é desejável que o ponto a ser obtido não esteja distante dos pontos conhecidos, por que o seu uso está comumente associado à modelos empíricos ou semi-empíricos, que possuem uma faixa de validade restrita.\n",
    "\n",
    "A interpolação e a extrapolação linear para encontrar uma propriedade $y$ são dadas pela seguinte fórmula:\n",
    "\n",
    "$$ y = y_1 + (y_2 - y_1) \\cdot {(x - x_1) \\over (x_2 - x_1)}$$"
   ]
  },
  {
   "cell_type": "markdown",
   "metadata": {},
   "source": [
    "A relação entre temperatura ($T$, em $K$) e a viscosidade cinemática ($\\gamma$) de um líquido é dada por uma modificação relação semi-empírica de Andrade, abaixo:\n",
    "\n",
    "$$ ln \\gamma = ln \\gamma_0 + {A \\over RT}$$\n",
    "\n",
    "Onde $A$ é uma constante experimental e $R$ a constante dos gases ideais.\n",
    "\n",
    "A viscosidade de um fluido pode ser medida pelo [viscosímetro de Höpler](https://www.youtube.com/watch?v=7BS3O_i1Fng). Utilizando o mesmo, $\\gamma$ será dado pela seguinte relação semi-empírica:\n",
    "\n",
    "$$ \\gamma = \\biggl({\\rho_b \\over \\rho_L} -1 \\biggr) \\cdot Bt $$\n",
    "\n",
    "Onde $\\rho_B (g/cm^3)$ é a viscosidade da bola, $\\rho_L (g/cm^3)$ a viscosidade do líquido, na temperatura do experimento, $B (cm^2/s^2)$ é uma constante característica da bola e do aparelho e $t (s)$ é o tempo de queda. \n",
    "\n",
    "Abaixo segue um quadro de experimentos realizados, cujo objetivo foi o de observar a relação linear entre $ln \\gamma$ e $1/T$, usando uma esfera de chumbo e a água como líquido.\n",
    "\n",
    "|Medidas|T(ºC)       |$t_1$|$t_2$|$t_3$|\n",
    "|:------|:----------:|:---:|:---:|:---:|\n",
    "|1      |25,5        |70,35|71,06|70,84|\n",
    "|2      |27,0        |68,22|68,16|68,40|\n",
    "|3      |29,0        |65,44|65,09|65,07|\n",
    "|4      |32,0        |60,91|60,56|60,75|\n",
    "|5      |35,0        |57,37|56,91|57,12|\n",
    "\n",
    "E esses são os valores tabelados para $\\rho_L$ para $T(K)$ na faixa estudada, retirado do *Perry's Chemical Engineer's Handbook*.\n",
    "\n",
    "| T(K)       | $\\rho_{H_2O} $ |\n",
    "|------------|:--------------:|\n",
    "|300         |996,513         |\n",
    "|302         |995,948         |\n",
    "|304         |995,346         |\n",
    "|306         |994,711         |\n",
    "|308         |994,042         |\n",
    "|310         |993,342         |\n",
    "\n",
    "$B = 8,636 \\cdot 10^{-5} cm^2/s^2$  \n",
    "$\\rho_B = 12,412 g/cm^3$"
   ]
  },
  {
   "cell_type": "markdown",
   "metadata": {},
   "source": [
    "A linearidade da curva $ln \\gamma$ vs $1/T$ pode ser determinada encontrando a equação da reta, cujo o quadrado da distância entre ela e os pontos (resíduos) é mínima. Esse método é chamado de [Método dos Mínimos Quadrados](https://pt.wikipedia.org/wiki/M%C3%A9todo_dos_m%C3%ADnimos_quadrados).\n",
    "\n",
    "O coeficiente de determinação dessa reta $R^2$, representa o quão bem a reta efetivamente correlaciona os pontos cujas distâncias ela minimiza. Quando a reta descrita apresenta um $R^2$ de 1, isso denota uma correlação perfeita ou inversamente perfeita dos pontos e uma variação em $x$ explica completamente uma variação em $y$. Quanto mais distante de 1 e mais próximo de 0 $R^2$ se torna, menor é a correlação entre $x$ e $y$; isto é, menor é a capacidade do modelo, com uma variação em $x$, prever uma variação em $y$.\n",
    "\n",
    "Para uma dada reta a ser ajustada, do tipo $$y = ax + b$$ podemos determinar $a$, $b$ e $R^2$ da seguinte forma:\n",
    "\n",
    "$$ a = {\\Sigma^{n}_{i = 1}  x_i (y_i - \\overline {y}) \\over \\Sigma^{n}_{i = 1} x_i (x_i - \\overline {x})}$$\n",
    "\n",
    "$$ b = \\overline {y} - a \\overline {x} $$\n",
    "\n",
    "$$ R^2 = 1 - {\\Sigma^{n}_{i = 1} [y_i - (ax_i + b)]^2 \\over \\Sigma^{n}_{i = 1} (y_i - \\overline {y})^2}$$\n",
    "\n",
    "$\\overline {x}$ - média dos pontos em $x$.  \n",
    "$\\overline {y}$ - média dos pontos em $y$.  \n",
    "$x_i$ - coordenada $x$ do $i$-ésimo ponto.  \n",
    "$y_i$ - coordenada $y$ do $i$-ésimo ponto."
   ]
  },
  {
   "cell_type": "markdown",
   "metadata": {},
   "source": [
    "- Crie uma função que recebendo $x, x_1, x_2, y_1$ e $y_2$ como parâmetros, retorna $y$, por interporlação ou extrapolação linear.\n",
    "- Use o conversor de temperaturas feito no notebook de operadores condicionais para transformar as temperaturas experimentais de ºC para K.\n",
    "- Use a função inter/extrapoladora para encontrar as densidades da água nas temperaturas do experimento.\n",
    "    - Para isso, você vai precisar de uma função que encontre os pontos x1, x2, y1 e y2 corretos para fazer a inter/extrapolação.\n",
    "    - Crie uma função que receba o x (temperatura do experimento) e que percorre a lista de temperaturas tabelas e encontra x1 e x2.\n",
    "        - Se x for menor que o primeiro elemento ou maior que o último elemento, ele fará uma extrapolação e x1 e x2 serão os 2 primeiros e os 2 últimos, respectivamente. Do contrário, ele fará uma interpolação e x1 será o elemento imediatamente abaixo de x e x2 o imediatamente acima.\n",
    "     - Crie uma função que repete o processo acima para cada temperatura experimental e coloca esses valores dentro da função inter/extrapoladora que você criou no 1º passo; e guarda os resultados (y) numa lista.\n",
    "         - Lembre-se da função append para realizar esta última etapa.\n",
    "---        \n",
    "- Crie uma função que recebe a triplicata de tempos de queda em cada experimento e retorne a média desses valores.\n",
    "- Crie uma função que recebe os parâmetros $\\rho_{H_2O} $, $t$, $B$, $\\rho_B$ e encontra a viscosidade cinemática $\\gamma$ para cada condição.\n",
    "- Crie uma função que receba T e retorne 1/T (use a notação lambda).\n",
    "- Crie uma função que receba $\\gamma$ e retorna $ln \\gamma$ *importe o módulo **math** e use o **math.log** para isso*.\n",
    "---\n",
    "- Importe o **matplotlib.pyplot** e crie um gráfico $\\gamma$ vs $1/T$. *Em caso de dúvidas, recomendamos que se olhe os notebooks anteriores, onde gráficos 1D foram criados*.\n",
    "---\n",
    "- Verifique a linearidade do experimento (ou a falta dela), realizando uma regressão linear, pelo método dos mínimos quadrados e determinando seu coeficiente de determinação.\n",
    "    - *Dica: use a função que calcula médias, que você já criou para os tempos, para calcular $\\overline{x}$ e $\\overline{y}$.*\n",
    "---\n",
    "Bônus:\n",
    "- Qual o significado físico de $\\gamma_0$?\n",
    "- Qual o valor de $A$? Qual o significado físico de A?\n",
    "---\n",
    "\n",
    "***Antes de começar a fazer seu código, crie um fluxograma (pseudocódigo) para organizar as tarefas e manter o objetivo claro***."
   ]
  },
  {
   "cell_type": "code",
   "execution_count": 2,
   "metadata": {},
   "outputs": [],
   "source": [
    "def acha_ponto (x, x1, x2, y1, y2):\n",
    "    return y1 + (y2 - y1)*(x - x1)/(x2 - x1)"
   ]
  },
  {
   "cell_type": "code",
   "execution_count": 3,
   "metadata": {},
   "outputs": [],
   "source": [
    "def acha_proximos(x, x_tabelados):\n",
    "    \n",
    "    if x > x_tabelados[-1]:\n",
    "        i = -1\n",
    "        x1 = x_tabelados[i-1]\n",
    "        x2 = x_tabelados[i]\n",
    "        \n",
    "    elif x < x_tabelados[0]:\n",
    "        i = 1\n",
    "        x1 = x_tabelados[i-1]\n",
    "        x2 = x_tabelados[i]\n",
    "        \n",
    "    else:\n",
    "        i = 0\n",
    "        while x > x_tabelados[i]:\n",
    "            i += 1\n",
    "        x1 = x_tabelados[i-1]\n",
    "        x2 = x_tabelados[i]\n",
    "        \n",
    "    return x1, x2, i\n",
    "\n",
    "def testa_pontos(x_desconhecidos, x_tabelados, y_tabelados): \n",
    "    \n",
    "    y_desconhecidos = []\n",
    "    \n",
    "    for x in x_desconhecidos:\n",
    "        x1, x2, i = acha_proximos(x, x_tabelados)\n",
    "        y1, y2 = y_tabelados[i-1], y_tabelados[i]\n",
    "        y = acha_ponto(x, x1, x2, y1, y2)        \n",
    "        y = round(y, 3)\n",
    "        y_desconhecidos.append(y)\n",
    "    \n",
    "    return y_desconhecidos"
   ]
  },
  {
   "cell_type": "code",
   "execution_count": 4,
   "metadata": {},
   "outputs": [],
   "source": [
    "def calcula_media(lista_tempos):\n",
    "    n = len(lista_tempos)\n",
    "    soma_tempos = 0\n",
    "    for tempo in lista_tempos:\n",
    "        soma_tempos += tempo\n",
    "    tempo_medio = soma_tempos/n\n",
    "    return tempo_medio"
   ]
  },
  {
   "cell_type": "code",
   "execution_count": 7,
   "metadata": {},
   "outputs": [
    {
     "name": "stdout",
     "output_type": "stream",
     "text": [
      "[298.65, 300.15, 302.15, 305.15, 308.15] \n",
      " [0.9968940000000001, 0.996471, 0.995903, 0.994981, 0.99399]\n"
     ]
    }
   ],
   "source": [
    "t_celsius = [25.5, 27, 29, 32, 35]\n",
    "t_kelvin = [conversor_temperatura(t, 'celsius', 'kelvin') for t in t_celsius]\n",
    "t_tabeladas = [300, 302, 304, 306, 308, 310]\n",
    "d_tabeladas = [996.513, 995.948, 995.346, 994.711, 994.042, 993.342]\n",
    "d_experimento = testa_pontos(t_kelvin, t_tabeladas, d_tabeladas)\n",
    "d_experimento = [d/1000 for d in d_experimento] #convertendo de kg/m³ para g/cm³\n",
    "\n",
    "print(t_kelvin, '\\n', d_experimento)\n",
    "#A gente precisa se preocuperar caso o x testado já esteja tabelado? Dá erro na função?"
   ]
  },
  {
   "cell_type": "code",
   "execution_count": 9,
   "metadata": {},
   "outputs": [
    {
     "data": {
      "text/plain": [
       "[70.75, 68.26, 65.2, 60.74, 57.13333333333333]"
      ]
     },
     "execution_count": 9,
     "metadata": {},
     "output_type": "execute_result"
    }
   ],
   "source": [
    "t1 = [70.35, 71.06, 70.84]\n",
    "t2 = [68.22, 68.16, 68.40]\n",
    "t3 = [65.44, 65.09, 65.07]\n",
    "t4 = [60.91, 60.56, 60.75]\n",
    "t5 = [57.37, 56.91, 57.12]\n",
    "tempos = [t1, t2, t3, t4, t5]\n",
    "tempos_medios = [calcula_media(t) for t in tempos]\n",
    "tempos_medios"
   ]
  },
  {
   "cell_type": "code",
   "execution_count": 10,
   "metadata": {},
   "outputs": [
    {
     "data": {
      "text/plain": [
       "[0.0699632610957835,\n",
       " 0.06753210626689027,\n",
       " 0.0645447375167903,\n",
       " 0.06019014054883622,\n",
       " 0.05667748887247022]"
      ]
     },
     "execution_count": 10,
     "metadata": {},
     "output_type": "execute_result"
    }
   ],
   "source": [
    "B = 8.636e-5 #cm²/s²\n",
    "d_bola = 12.412 #g/cm³\n",
    "\n",
    "import math as m\n",
    "\n",
    "viscosidade = lambda d_h2o, tempo: (d_bola/d_h2o - 1)* B*tempo\n",
    "viscosidades = list(map(viscosidade, d_experimento, tempos_medios))\n",
    "ln_gamma = [m.log(visc) for visc in viscosidades]\n",
    "inverso_T = [1/T for T in t_kelvin]\n",
    "\n",
    "viscosidades"
   ]
  },
  {
   "cell_type": "code",
   "execution_count": 11,
   "metadata": {},
   "outputs": [
    {
     "data": {
      "text/plain": [
       "Text(0.5, 0, '1/T')"
      ]
     },
     "execution_count": 11,
     "metadata": {},
     "output_type": "execute_result"
    },
    {
     "data": {
      "image/png": "[encoded data removed]",
      "text/plain": [
       "<Figure size 432x288 with 1 Axes>"
      ]
     },
     "metadata": {
      "needs_background": "light"
     },
     "output_type": "display_data"
    }
   ],
   "source": [
    "import matplotlib.pyplot as plt\n",
    "\n",
    "fig = plt.figure()\n",
    "grafico = fig.add_subplot()\n",
    "pontos = grafico.plot(inverso_T, ln_gamma, marker = 'o', markersize = 6)\n",
    "grafico.set_ylabel('ln gamma')\n",
    "grafico.set_xlabel('1/T')"
   ]
  },
  {
   "cell_type": "code",
   "execution_count": 12,
   "metadata": {},
   "outputs": [],
   "source": [
    "def equacao_reta(lista_x, lista_y): \n",
    "    x_medio = calcula_media(lista_x)\n",
    "    y_medio = calcula_media(lista_y)\n",
    "    numerador_a = denominador_a = numerador_r2 = denominador_r2 = 0\n",
    "    \n",
    "    for i in range(len(lista_x)):       \n",
    "        numerador_a += lista_x[i]*(lista_y[i] - y_medio) \n",
    "        denominador_a += lista_x[i]*(lista_x[i] - x_medio)        \n",
    "    coeficiente_angular = numerador_a/denominador_a\n",
    "    coeficiente_linear = y_medio - coeficiente_angular * x_medio\n",
    "    \n",
    "    for i in range(len(lista_x)):\n",
    "        numerador_r2 += (lista_y[i] - (lista_x[i] * coeficiente_angular + coeficiente_linear))**2\n",
    "        denominador_r2 += (lista_y[i] - y_medio)**2\n",
    "    r2 = 1 - numerador_r2/denominador_r2\n",
    "    \n",
    "    return coeficiente_angular, coeficiente_linear, r2"
   ]
  },
  {
   "cell_type": "code",
   "execution_count": 13,
   "metadata": {},
   "outputs": [
    {
     "data": {
      "text/plain": [
       "(2051.4082065892017, -9.52973460599771, 0.999465758096975)"
      ]
     },
     "execution_count": 13,
     "metadata": {},
     "output_type": "execute_result"
    }
   ],
   "source": [
    "a, b, r2 = equacao_reta(inverso_T, ln_gamma)\n",
    "a, b, r2"
   ]
  },
  {
   "cell_type": "code",
   "execution_count": 14,
   "metadata": {},
   "outputs": [
    {
     "data": {
      "text/plain": [
       "17.055407829582624"
      ]
     },
     "execution_count": 14,
     "metadata": {},
     "output_type": "execute_result"
    }
   ],
   "source": [
    "R = 8.314 #J mol^-1 K^-1\n",
    "A = a * R/1000 # KJ/mol\n",
    "A\n",
    "\n",
    "# gamma_0 é a viscosidade prevista pelo modelo para a água numa temperatura infinita (1/T tendendo a 0).\n",
    "# essa é a viscosidade mínima que o líquido poderia ter se o modelo fosse válido em qualquer temperatura.\n",
    "# por motivos óbvios, esse modelo não é válido indefinidamente... mas na faixa estudada ele é válido.\n",
    "\n",
    "# A é uma \"energia de ativação\" necessária para colocar a bolinha em movimento.\n",
    "# Compare a equação com o modelo cinético de Arrhenius que a ideia ficará mais clara."
   ]
  },
  {
   "attachments": {
    "Tanque%20de%20Resfriamento.png": {
     "image/png": "[encoded data removed]"
    }
   },
   "cell_type": "markdown",
   "metadata": {},
   "source": [
    "## Problema 3:\n",
    "\n",
    "Um reator é alimentado por duas correntes aquosas 1 e 2 e sai com corrente 3. Ele é resfriado por uma camisa térmica com água de recirculação. Dentro do reator, acontece uma reação exotérmica. Fazendo as devidas considerações, chega-se ao seguinte modelo para o nível do tanque, temperatura de saída e temperatura de saída do trocador, em função do tempo:\n",
    "\n",
    "![Tanque%20de%20Resfriamento.png](attachment:Tanque%20de%20Resfriamento.png)\n",
    "\n",
    "$$h_i = 3$$\n",
    "$$F_1 = 1$$\n",
    "$$F_2 = 2$$\n",
    "$$F_3(t) = 3 - e^{-t}$$  \n",
    "\n",
    "$$ {dh \\over dt} = 10 \\cdot {( F_1 + F_2 - F_3(t) )} $$  \n",
    "$$ T_{sr}(t) = {12 \\over h(t)} \\cdot \\bigg(518.75 - 375 e^{-1.2t} - 68.75 e^{-2.4t} \\bigg) $$  \n",
    "$$ T_{st}(t) = {12 \\over h(t)} \\cdot \n",
    "\\bigg( 327.25 \\bigg(1 - 0.4e^{-1.2t} \\bigg) - 45.25e^{-1.8t} - 68.75 e^{-2.4t} \\bigg) $$  \n",
    "\n",
    "$t$ é o tempo decorrido, em horas.  \n",
    "$F$ é a vazão volumétrica em $m^3/h$.  \n",
    "$h$ é a altura em $m$; $h_i$ é a altura quando $t = 0$.  \n",
    "$T$ é a temperatura em Kelvin.  \n",
    "\n",
    "Tarefas:\n",
    "\n",
    "- Plote a curva de nível (altura) do reator.\n",
    "    - Ela será dada pela atualização de h_i ao longo do tempo, feita por ${dh \\over dt}$.  \n",
    "- Plote as curvas de temperatura de saída do reator e do trocador.\n",
    "    - Faça isso num gráfico separado da altura, pois a magnitude dos valores é bem distinta.\n",
    "\n",
    "\n",
    "- Calcule o tempo para que o sistema alcance o regime permanente. \n",
    "    - Use a derivada das funções como critério: se, para um dado incremento infinitesimal, as variações do sistema tenderem a zero, então o regime permanente foi atingindo. \n",
    "    - **Todas** as condições dele devem convergir para uma constante; no nosso caso, temperaturas e nível. \n",
    "    - Use aquilo que você achar razoável para definir o que é ***infinitesimal*** e o que é ***tender a zero***.\n",
    "    - PS: Um sistema pode ter um \"equilíbrio instável\", dado pela inversão da inclinação da derivada, que passa por um zero e irá apontar uma \"falsa convergência\". Você pode facilmente descobrir se uma função possui este \"equilíbrio instável\" plotando o seu gráfico.\n",
    "    \n",
    "\n",
    "- Plote as derivadas das variáveis de saída do sistema.\n",
    "\n",
    "### Derivadas de 1º Ordem\n",
    "\n",
    "$$ {df \\over dx} = \\lim_{j \\to 0} {f(x+j) - f(x) \\over j} $$\n",
    "\n",
    "Nós podemos calcular derivadas de maneira numérica pela definição da derivada como um limite. \n",
    "\n",
    "Calcular a derivada num ponto particular é uma tarefa trivial e pode ser feita apenas com os conceitos mostrados nas duas primeiras semanas. \n",
    "\n",
    "Você pode fazer isso criando uma função que recebe $f$, $x$ e $j$ e devolve a derivada numérica no ponto t, usando a definição da derivida como limite.\n",
    "\n",
    "Nossa tarefa agora é calcular a derivada para um conjunto de pontos, para podermos plotar o gráfico e analisar a convergência. $dh \\over dt$ já está dado; para a derivada das temperaturas, pode ser mais interessante usar a lista de temperaturas produzida para o plot da curva $T(K)$ x $t(h)$:\n",
    "\n",
    "- para o índice $i$, usamos $i+1$ como $f(x+j)$; \n",
    "- $i$ como $f(x)$;\n",
    "- $j$ como o espaço de tempo entre um e outro, que você já conhece porque os usou para produzir a lista de funções."
   ]
  },
  {
   "cell_type": "code",
   "execution_count": 40,
   "metadata": {},
   "outputs": [],
   "source": [
    "import math as m\n",
    "e = m.e"
   ]
  },
  {
   "cell_type": "code",
   "execution_count": 1,
   "metadata": {},
   "outputs": [],
   "source": [
    "hi = 3\n",
    "f1 = lambda t: 1\n",
    "f2 = lambda t: 2\n",
    "f3 = lambda t: 3 - e**(-t)\n",
    "\n",
    "ts = [x/3600 for x in range(0, 18000, 100)]\n",
    "dt = ts[1] - ts[0]\n",
    "\n",
    "dhdt = lambda t: 10 * (f1(t) + f2(t) - f3(t))\n",
    "TsaidaReator = lambda t, h: (518.75 - 375*e**(-1.2*t) - 68.75*e**(-2.4*t))*12/h\n",
    "TsaidaTrocador = lambda t, h: (327.25*(1 - 0.4*e**(-1.2*t)) - 45.25*e**(-1.8*t) - 68.75*e**(-2.4*t))*12/h\n",
    "\n",
    "def h(ts, hi = hi):\n",
    "    listaAlturas = [] \n",
    "    for t in ts:       \n",
    "        dh = dhdt(t) * dt\n",
    "        hi += dh\n",
    "        listaAlturas.append(hi)\n",
    "    return listaAlturas\n",
    "\n",
    "def derivada(listaFuncao, incremento = dt):\n",
    "    dfdts = []\n",
    "    for index in range(len(listaFuncao)-1):\n",
    "        dfdt = (listaFuncao[index + 1]-listaFuncao[index])/incremento\n",
    "        dfdts.append(dfdt)\n",
    "    #eu repeti o último ponto apenas p/ que as listas \"ts\" e \"dfdts\" fiquem de mesmo tamanho p/ o gráfico, \n",
    "    #s/ precisar usar slicing (tema da semana 7)\n",
    "    dfdts.append(dfdt)\n",
    "    \n",
    "    return dfdts\n",
    "\n",
    "def convergencia1variavel(dfdts, tolerancia):\n",
    "    \n",
    "    for n in range(len(dfdts) - 1, -1, -1):\n",
    "        if abs(dfdts[n]) > tolerancia:\n",
    "            return n + 1\n",
    "    return 0\n",
    "    \n",
    "    # essa função é uma forma simples p/ encontrar a convergência p/ o nosso modelo, não necessariamente o caso geral.\n",
    "    # ela lê os pontos de trás p/ frente e pega o ponto anterior ao momento em que a tolerância começa a ser ultrapassada.\n",
    "    \n",
    "def convergenciaSistema(ts, lista_dfdts, lista_tolerancias):\n",
    "    \n",
    "    n = 0\n",
    "    \n",
    "    for index in range(len(lista_dfdts)):\n",
    "        \n",
    "        dfdts = lista_dfdts[index]\n",
    "        tolerancia = lista_tolerancias[index]\n",
    "        tempoConvergencia = convergencia1variavel(dfdts, tolerancia)\n",
    "        \n",
    "        if tempoConvergencia > n:\n",
    "            n = tempoConvergencia\n",
    "            \n",
    "    return ts[n]    "
   ]
  },
  {
   "cell_type": "code",
   "execution_count": 332,
   "metadata": {},
   "outputs": [],
   "source": [
    "hs = h(ts)\n",
    "TemperaturasSaidaReator = list(map(TsaidaReator, ts, hs))\n",
    "TemperaturasSsaidaTrocador = list(map(TsaidaTrocador, ts, hs))\n",
    "\n",
    "dhdts = list(map(dhdt, ts))\n",
    "dTrdts = derivada(TemperaturasSaidaReator)\n",
    "dTtdts = derivada(TemperaturasSsaidaTrocador)\n",
    "\n",
    "tConvergencia_h = ts[convergencia1variavel(dhdts, 1e-1)]\n",
    "tConvergencia_Tr = ts[convergencia1variavel(dTrdts, 2)]\n",
    "tConvergencia_Tt = ts[convergencia1variavel(dTtdts, 2)]\n",
    "tConvergenciaSistema = convergenciaSistema(ts, [dhdts, dTrdts, dTtdts], [1e-1, 2, 2])"
   ]
  },
  {
   "cell_type": "code",
   "execution_count": 333,
   "metadata": {},
   "outputs": [
    {
     "data": {
      "text/plain": [
       "Text(0, 0.5, 'dT/dt')"
      ]
     },
     "execution_count": 333,
     "metadata": {},
     "output_type": "execute_result"
    },
    {
     "data": {
      "image/png": "[encoded data removed]",
      "text/plain": [
       "<Figure size 1152x720 with 4 Axes>"
      ]
     },
     "metadata": {
      "needs_background": "light"
     },
     "output_type": "display_data"
    }
   ],
   "source": [
    "figura = plt.figure(figsize = (16, 10)) #gráficos pelo modelo não linear\n",
    "\n",
    "grafico1 = figura.add_subplot(2, 2, 1) #plot do gráfico 'altura x tempo'\n",
    "grafico1.plot(ts, hs)\n",
    "grafico1.plot([tConvergencia_h, tConvergencia_h], [3, 15])\n",
    "grafico1.legend(['h', 'convergência'])\n",
    "grafico1.set_xlabel('tempo (h)')\n",
    "grafico1.set_ylabel('altura (m)')\n",
    "\n",
    "grafico2 = figura.add_subplot(2, 2, 2)\n",
    "grafico2.plot(ts, TemperaturasSaidaReator)\n",
    "grafico2.plot(ts, TemperaturasSsaidaTrocador)\n",
    "grafico2.plot([tConvergencia_Tr, tConvergencia_Tr], [250, 600])\n",
    "grafico2.plot([tConvergencia_Tt , tConvergencia_Tt ], [250, 600])\n",
    "grafico2.legend(['Temperatura de Saída do Reator', 'Temperatura de saída Trocador',\n",
    "                 'convergência T reator', 'convergência T trocador'])\n",
    "grafico2.set_xlabel('tempo (h)')\n",
    "grafico2.set_ylabel('temperatura (K)')\n",
    "\n",
    "grafico3 = figura.add_subplot(2, 2, 3)\n",
    "grafico3.plot(ts, dhdts)\n",
    "grafico3.legend(['dh/dt'])\n",
    "grafico3.set_xlabel('tempo (h)')\n",
    "grafico3.set_ylabel('dh/dt')\n",
    "\n",
    "grafico4 = figura.add_subplot(2, 2, 4)\n",
    "grafico4.plot(ts, dTrdts)\n",
    "grafico4.plot(ts, dTtdts)\n",
    "grafico4.legend(['dT_reator/dt', 'dT_trocador/dt'])\n",
    "grafico4.set_xlabel('tempo (h)')\n",
    "grafico4.set_ylabel('dT/dt')"
   ]
  },
  {
   "attachments": {
    "c%C3%A2mara%20de%20poeira.jpg": {
     "image/jpeg": "[encoded data removed]"
    }
   },
   "cell_type": "markdown",
   "metadata": {},
   "source": [
    "## Problema 4:\n",
    "\n",
    "A [câmara de poeira](https://en.wikipedia.org/wiki/Dust_collector)(imagem abaixo) é um dos equipamentos mais simples para a separação de sólidos e gases. É muito comumente empregado na etapa de tratamento de efluentes gasosos na indústria. Embora seja pouco eficiente e ocupe grande espaço, seu baixo custo operacional e baixo investimento ainda o torna uma opção viável em muitos casos. \n",
    "\n",
    "Sua eficiência aumenta com o uso de aletas, embora isso pareça implicar numa maior perda de carga no processo. Dependendo do caso, isso pode ou não ser relevante. No caso de uma coleta mais fina, outros métodos mais robustos podem ser empregados, como equipamentos que utilizem um campo centrífugo (ciclones).\n",
    "\n",
    "![c%C3%A2mara%20de%20poeira.jpg](attachment:c%C3%A2mara%20de%20poeira.jpg)\n",
    "\n",
    "### P2 2010/1 - Operações Unitárias I - Ricardo Pires Peçanha. Adaptado. \n",
    "\n",
    "Uma câmara de poeira/sedimentação (largura(B) = 1.5 m, altura (H) = 0.6 m, comprimento (L) = 6.0 m) trata 9000 m³/h de um efluente gasoso industrial contendo partículas sólidas em suspensão ($\\rho_s$ = 2.65 g/cm³).  A distribuição de tamanhos das partículas obedece ao modelo RRB com $D_{63.2}$ = 50 $\\mu m$ e n = 2,3. Calcule a eficiência global de coleta da câmara de poeira. Suponha que as propriedades físicas do gás em questão são idênticas às do ar a 120° C e 1 atm e que a Lei de Stokes é válida.\n",
    "\n",
    "Utilizando as pressuposições, vamos às equações:\n",
    "\n",
    "A eficiência global $\\bar \\eta$, para uma corrente de partículas que segue a distribuição de partículas RRB, é dada por:\n",
    "\n",
    "$$ \\bar \\eta = K \\int_{0}^{y_{min}} \\Bigg [ln \\Bigg ({1 \\over 1 - y} \\Bigg) \\Bigg]^{2/n}dy + (1 - y_{min})$$\n",
    "\n",
    "$$ K = {D_{63.2}^2 \\over D_{min}^2} $$\n",
    "\n",
    "$$ y_{min} = 1 - e^{-\\bigg( {\\Large {D_{min} \\over D_{63.2}}} \\bigg)^{\\Large n}} $$\n",
    "\n",
    "$$ D_{min} = \\sqrt{ 18 \\mu Q \\over (\\rho_s - \\rho_f)gBL } $$\n",
    "\n",
    "Onde:\n",
    "\n",
    "$D_{min}$ é o menor tamanho de partícula que ainda é coletado com eficiência de 100%.\n",
    "$y_{min}$ é a fração de partículas (em relação ao todo da distribuição) cujo tamanho é menor que $D_{min}$.\n",
    "\n",
    "*Nota: as partículas, ao se assumir modelo de Stokes válidos, são necessariamente esferas.*\n",
    "\n",
    "$D_{63.2}$ e $n$ são valores empíricos para o modelo RRB.  \n",
    "$\\mu $ é a viscosidade dinâmica do ar. $\\mu = 0.9062kg/m^3 $   \n",
    "$\\rho_f$ é a densidade do ar. $\\rho_f = 22.55 \\cdot 10^{-6} Pa \\cdot s$  \n",
    "$\\rho_s$ é a densidade do material particulado, assumida constante.  \n",
    "$g$ é a aceleração da gravidade. \n",
    "\n",
    "\n",
    "### Integração Numérica\n",
    "\n",
    "Uma integral pode ser calculada numéricamente pela soma de áreas infinitesimais, pela conhecida [Soma de Riemann](https://pt.wikipedia.org/wiki/Soma_de_Riemann). Existem diferentes métodos para definir como será essa área infinitesimal a ser calculada, mas todas elas convergem para o mesmo valor quanto mais próximo de inifinitesimal for o incremento dado.\n",
    "\n",
    "$$ \\int_{a}^{b} f(t)dt = \\sum_{n=1}^{{b-a \\over dt} = \\infty} f(a+ndt) \\cdot dt = \\lim_{h \\to 0} \\sum_{n=1}^{{b-a \\over h}} f(a+nh) \\cdot h $$\n",
    "\n",
    "Para uma dada função $f(t)$ cuja integral no intervalo $a \\rightarrow b$ seja deseja saber, podemos calcular a área de vários retângulos bem finos, de finura $dt$, para os $n$ intervalos $dt$ que estejam compreendidos entre $a$ e $b$ e somá-los. Note que se $f(t) < 0$, a área será \"negativa\", cancelando com a área positiva, o que é consistente com a definição de integral que se é utilizada. Além disso, atente que $dt$ é sempre positivo; se isso passar despercebido você irá acabar calculando \"áreas negativas\" e áreas positivas nos lugares errados.\n",
    "\n",
    "- Dica: $n = {b - a \\over h}$, mas o *loop for* só vai funcionar para um número inteiro, lembre-se de converter $n$ para inteiro, mesmo que no papel a divisão já resultasse num número inteiro, por causa do problema do ponto flutuante, que será visto no Notebook de laços aninhados (semana 6)."
   ]
  },
  {
   "cell_type": "code",
   "execution_count": 2,
   "metadata": {},
   "outputs": [],
   "source": [
    "import math as m\n",
    "e = m.e\n",
    "ln = lambda x: m.log(x, e)"
   ]
  },
  {
   "cell_type": "code",
   "execution_count": 3,
   "metadata": {},
   "outputs": [],
   "source": [
    "rho_s = 2.65 # g/cm³\n",
    "rho_s *= 1000 # kg/m³\n",
    "rho_f = 0.9062 # kg/m³\n",
    "mu = 22.55e-6 # Pa s\n",
    "g = 9.81 # m/s\n",
    "B = 1.5 # m\n",
    "L = 6 # m\n",
    "Q = 9000 # m³/h\n",
    "Q /= 3600 # m³/s\n",
    "d632 = 50 # micrômetros\n",
    "d632 /= 1e6 # m\n",
    "n = 2.3"
   ]
  },
  {
   "cell_type": "code",
   "execution_count": 4,
   "metadata": {},
   "outputs": [],
   "source": [
    "dmin = lambda: ( 18*mu*Q/(rho_s - rho_f)/g/B/L )**0.5\n",
    "ymin = lambda d632, dmin: 1 - e**(- (dmin()/d632)**n )\n",
    "k = lambda d632, dmin: d632**2/dmin()**2\n",
    "integrando = lambda y: ( ln(1/(1-y)) )**(2/n)\n",
    "\n",
    "def integral(f, a, b, h):\n",
    "    \n",
    "    n = int((b-a)/h)\n",
    "    integral = 0    \n",
    "    for i in range(1, n+1):\n",
    "        integral += f(a+ i*h) * h\n",
    "    return integral"
   ]
  },
  {
   "cell_type": "code",
   "execution_count": 5,
   "metadata": {},
   "outputs": [],
   "source": [
    "K = k(d632, dmin)\n",
    "Ymin = ymin(d632, dmin)\n",
    "Integral = integral(integrando, 0, Ymin, 1e-4 )"
   ]
  },
  {
   "cell_type": "code",
   "execution_count": 6,
   "metadata": {},
   "outputs": [
    {
     "data": {
      "text/plain": [
       "48.164967311971175"
      ]
     },
     "execution_count": 6,
     "metadata": {},
     "output_type": "execute_result"
    }
   ],
   "source": [
    "eficienciaGlobal = 100*(K*Integral + (1-Ymin))\n",
    "eficienciaGlobal"
   ]
  }
 ],
 "metadata": {
  "kernelspec": {
   "display_name": "Python 3",
   "language": "python",
   "name": "python3"
  },
  "language_info": {
   "codemirror_mode": {
    "name": "ipython",
    "version": 3
   },
   "file_extension": ".py",
   "mimetype": "text/x-python",
   "name": "python",
   "nbconvert_exporter": "python",
   "pygments_lexer": "ipython3",
   "version": "3.8.3"
  }
 },
 "nbformat": 4,
 "nbformat_minor": 4
}
