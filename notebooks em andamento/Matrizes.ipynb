{
 "cells": [
  {
   "cell_type": "code",
   "execution_count": 5,
   "metadata": {},
   "outputs": [],
   "source": [
    "import numpy as np"
   ]
  },
  {
   "cell_type": "code",
   "execution_count": 10,
   "metadata": {},
   "outputs": [],
   "source": [
    "#criação do sistema de equações de balanço de massa dos estágios na forma matricial\n",
    "# fazer sem usar o numpy\n",
    "def junta_matriz(matriz, estagio):    \n",
    "    if estagio > 2:\n",
    "        return np.concatenate((junta_matriz (matriz, estagio - 1), matriz[estagio - 1]), axis = 0)        \n",
    "    else:\n",
    "        return np.concatenate((matriz[0], matriz[1]), axis = 0)\n",
    "\n",
    "def gerador_matriz(n_estagios, rao, d, cia, cio):\n",
    "    \n",
    "    matriz = []    \n",
    "    for estagio_i in range(1, n_estagios + 1):        \n",
    "        if estagio_i == 1:\n",
    "            if type(d) == list:\n",
    "                linha_i = np.concatenate(([rao + d[estagio_i - 1], -d[estagio_i]],\n",
    "                                          np.zeros(n_estagios - estagio_i - 1), [cia * rao]), axis = 0)\n",
    "            else:\n",
    "                linha_i = np.concatenate(([rao + d, -d], np.zeros(n_estagios - estagio_i - 1), [cia * rao]), axis = 0)            \n",
    "        elif estagio_i == n_estagios:\n",
    "            if type(d) == list:\n",
    "                linha_i = np.concatenate((np.zeros(n_estagios - 2), [-rao, rao + d[n_estagios - 1]], [cio]), axis = 0)                \n",
    "            else:\n",
    "                linha_i = np.concatenate((np.zeros(n_estagios - 2), [-rao, rao + d], [cio]), axis = 0)            \n",
    "        else:\n",
    "            if type(d) == list:\n",
    "                linha_i = np.concatenate(\n",
    "                          (np.zeros(estagio_i - 2), [-rao, rao + d[estagio_i - 1], -d[estagio_i]],\n",
    "                           np.zeros(n_estagios - estagio_i)), axis = 0)\n",
    "            else:\n",
    "                linha_i = np.concatenate(\n",
    "                          (np.zeros(estagio_i - 2), [-rao, rao + d, -d], np.zeros(n_estagios - estagio_i)), axis = 0)            \n",
    "        matriz.append(linha_i)\n",
    "        \n",
    "    matriz = junta_matriz(matriz, n_estagios).reshape(n_estagios, n_estagios + 1)    \n",
    "    return matriz"
   ]
  },
  {
   "cell_type": "code",
   "execution_count": 6,
   "metadata": {},
   "outputs": [
    {
     "data": {
      "text/plain": [
       "array([[ 4., -2.,  0.,  0.,  0.,  0.,  0.,  0.,  0.,  0.,  6.],\n",
       "       [-2.,  4., -2.,  0.,  0.,  0.,  0.,  0.,  0.,  0.,  0.],\n",
       "       [ 0., -2.,  4., -2.,  0.,  0.,  0.,  0.,  0.,  0.,  0.],\n",
       "       [ 0.,  0., -2.,  4., -2.,  0.,  0.,  0.,  0.,  0.,  0.],\n",
       "       [ 0.,  0.,  0., -2.,  4., -2.,  0.,  0.,  0.,  0.,  0.],\n",
       "       [ 0.,  0.,  0.,  0., -2.,  4., -2.,  0.,  0.,  0.,  0.],\n",
       "       [ 0.,  0.,  0.,  0.,  0., -2.,  4., -2.,  0.,  0.,  0.],\n",
       "       [ 0.,  0.,  0.,  0.,  0.,  0., -2.,  4., -2.,  0.,  0.],\n",
       "       [ 0.,  0.,  0.,  0.,  0.,  0.,  0., -2.,  4., -2.,  0.],\n",
       "       [ 0.,  0.,  0.,  0.,  0.,  0.,  0.,  0., -2.,  4.,  0.]])"
      ]
     },
     "execution_count": 6,
     "metadata": {},
     "output_type": "execute_result"
    }
   ],
   "source": [
    "gerador_matriz(10, 2, 2, 3, 0)"
   ]
  },
  {
   "cell_type": "code",
   "execution_count": 8,
   "metadata": {},
   "outputs": [],
   "source": [
    "# Funções para escalonamento da matriz do balanço de massa\n",
    "\n",
    "def muda_linha (li, lj, i): # 'lj' é a linha a ser modificada, 'li' a modificadora e 'i' é o elemento a ser zerado\n",
    "\n",
    "    li_modificador = []\n",
    "    \n",
    "    for elemento in li:\n",
    "        elemento = elemento * lj[i] / li[i]\n",
    "        li_modificador.append(elemento)    \n",
    "\n",
    "    for elemento in range(len(lj)):\n",
    "        lj[elemento] = lj[elemento] - li_modificador[elemento]\n",
    "        \n",
    "    return lj\n",
    "\n",
    "def escalona1 (matriz): #ela vai escalonar a matriz até zerar a diagonal de baixo\n",
    "\n",
    "    n = 0\n",
    "    while n < (len(matriz) - 1): #vai passar p/ próximo pivô\n",
    "        l = 1\n",
    "        while (l + n) < (len(matriz)): # vai zerar todos os termos de uma coluna que estão abaixo da diagonal\n",
    "            matriz[n + l] = muda_linha (matriz[n], matriz[n + l], n)\n",
    "            l += 1\n",
    "        l = 1\n",
    "        n += 1\n",
    "        \n",
    "    return matriz\n",
    "    \n",
    "def escalona2 (matriz): #ela vai escalonar a diagonal de cima, partindo da diagonal de baixo zerada\n",
    "    \n",
    "    matriz = escalona1(matriz)    \n",
    "    n = len(matriz) - 1\n",
    "    while n > 0:\n",
    "        l = 1\n",
    "        while l <= n: #vai passar p/ pivô anterior\n",
    "            matriz[n - l] = muda_linha (matriz[n], matriz[n - l], n)\n",
    "            l += 1\n",
    "        l = 1\n",
    "        n -= 1\n",
    "\n",
    "    return matriz\n",
    "\n",
    "def resolve_sistema (n_estagios, rao, d, cia, cio):\n",
    "    \n",
    "    matriz = escalona2(gerador_matriz(n_estagios, rao, d, cia, cio))\n",
    "    concentraçoes_aquoso = []    \n",
    "    \n",
    "    for linha in range(len(matriz)):\n",
    "        matriz[linha][-1] /= matriz[linha][linha]\n",
    "        concentraçoes_aquoso.append(matriz[linha][-1])         \n",
    "        \n",
    "    return concentraçoes_aquoso"
   ]
  },
  {
   "cell_type": "code",
   "execution_count": 9,
   "metadata": {},
   "outputs": [
    {
     "data": {
      "text/plain": [
       "[4.545454545454545,\n",
       " 4.090909090909091,\n",
       " 3.6363636363636367,\n",
       " 3.1818181818181825,\n",
       " 2.7272727272727284,\n",
       " 2.272727272727274,\n",
       " 1.8181818181818188,\n",
       " 1.363636363636364,\n",
       " 0.9090909090909093,\n",
       " 0.4545454545454546]"
      ]
     },
     "execution_count": 9,
     "metadata": {},
     "output_type": "execute_result"
    }
   ],
   "source": [
    "resolve_sistema(10, 2, 2, 5, 0)"
   ]
  }
 ],
 "metadata": {
  "kernelspec": {
   "display_name": "Python 3",
   "language": "python",
   "name": "python3"
  },
  "language_info": {
   "codemirror_mode": {
    "name": "ipython",
    "version": 3
   },
   "file_extension": ".py",
   "mimetype": "text/x-python",
   "name": "python",
   "nbconvert_exporter": "python",
   "pygments_lexer": "ipython3",
   "version": "3.8.3"
  }
 },
 "nbformat": 4,
 "nbformat_minor": 4
}
