{
 "cells": [
  {
   "cell_type": "markdown",
   "metadata": {},
   "source": [
    "<b>Exercício de logística</b> :\n",
    "\n",
    "Uma pequena empresa opera com sistema de batelada, sua matéria prima só é vendida em lotes de 10 garradas de 1l cada.Como o dono é um pequeno empresário,comprou a quantidade mínima para produzir uma batelada.\n",
    "Cada processo de batelada usa 375L da substancia x.Para manter sempre um controle rigoroso, depois de cada processo ele atualiza seu estoque para  evitar que se compre mais matéria prima do que o necessário na proxima encomenda.\n",
    "Quantos litros foram computados no estoque ao fim do primeiro processo?\n",
    "    "
   ]
  },
  {
   "attachments": {
    "batelada.png": {
     "image/png": "[encoded data removed]"
    }
   },
   "cell_type": "markdown",
   "metadata": {},
   "source": [
    "![batelada.png](attachment:batelada.png)"
   ]
  },
  {
   "cell_type": "code",
   "execution_count": null,
   "metadata": {},
   "outputs": [],
   "source": [
    "lote= 10 #L\n",
    "Estoq_i=40*lote\n",
    "E1=374 #L\n",
    "\n",
    "lote_usado=E1%lote #l\n",
    "\n",
    "lote-lote_usado #l\n"
   ]
  },
  {
   "cell_type": "code",
   "execution_count": null,
   "metadata": {},
   "outputs": [],
   "source": [
    "374//10 #unidade"
   ]
  },
  {
   "cell_type": "markdown",
   "metadata": {},
   "source": [
    "<b>Exercício de otimização de tempo</b> :\n",
    "Uma unidade de operação tem como um dos produto o ácido acético , você precisa saber a quantidade calorifica desse produto nas condições de operação: T=500k.Eu quero que meu operador  saiba a capacidade térmica  apenas dando entrada no valor de temperatura:"
   ]
  },
  {
   "cell_type": "markdown",
   "metadata": {},
   "source": [
    "$CP= 2,0142 + 56,0646*10^{-9}*T +34,088*10^{-6}*T^2 $\n",
    "   \n",
    "   \n",
    "   $[CP]=Cal/g.mol.k$"
   ]
  },
  {
   "cell_type": "code",
   "execution_count": null,
   "metadata": {},
   "outputs": [],
   "source": [
    "x=float(input(\"digite aqui o valor de x: \"))\n",
    "y=2.0142 + 56.0646*(10**(-9))*(x) + 34.088*(10**(-6))*((x)**2)\n",
    "print (y)\n"
   ]
  },
  {
   "cell_type": "code",
   "execution_count": null,
   "metadata": {},
   "outputs": [],
   "source": []
  }
 ],
 "metadata": {
  "kernelspec": {
   "display_name": "Python 3",
   "language": "python",
   "name": "python3"
  },
  "language_info": {
   "codemirror_mode": {
    "name": "ipython",
    "version": 3
   },
   "file_extension": ".py",
   "mimetype": "text/x-python",
   "name": "python",
   "nbconvert_exporter": "python",
   "pygments_lexer": "ipython3",
   "version": "3.8.5"
  }
 },
 "nbformat": 4,
 "nbformat_minor": 4
}
