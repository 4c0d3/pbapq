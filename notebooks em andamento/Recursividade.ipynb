{
 "cells": [
  {
   "cell_type": "markdown",
   "metadata": {},
   "source": [
    "## Problema 1:"
   ]
  },
  {
   "cell_type": "code",
   "execution_count": 137,
   "metadata": {},
   "outputs": [],
   "source": [
    "E = 1.5\n",
    "a1 = 0.05848120206283304\n",
    "af = 10\n",
    "\n",
    "resultados = []\n",
    "\n",
    "def an (a1, E, n):\n",
    "    \n",
    "    if n == 2:\n",
    "        a = a1*(1+E)\n",
    "        resultados.extend([a1, a])\n",
    "        return a\n",
    "    else:\n",
    "        a = a1 + E*an(a1, E, n-1)\n",
    "        resultados.append(a)\n",
    "        return a"
   ]
  },
  {
   "cell_type": "code",
   "execution_count": 138,
   "metadata": {},
   "outputs": [
    {
     "data": {
      "text/plain": [
       "(6.6276791986247785,\n",
       " [0.05848120206283304,\n",
       "  0.1462030051570826,\n",
       "  0.2777857097984569,\n",
       "  0.4751597667605184,\n",
       "  0.7712208522036107,\n",
       "  1.2153124803682491,\n",
       "  1.8814499226152068,\n",
       "  2.880656085985643,\n",
       "  4.379465331041297,\n",
       "  6.6276791986247785])"
      ]
     },
     "execution_count": 138,
     "metadata": {},
     "output_type": "execute_result"
    }
   ],
   "source": [
    "an(a1, E, 10), resultados"
   ]
  },
  {
   "cell_type": "markdown",
   "metadata": {},
   "source": [
    "## Desafio:"
   ]
  },
  {
   "cell_type": "code",
   "execution_count": 1,
   "metadata": {},
   "outputs": [
    {
     "ename": "NameError",
     "evalue": "name 'af' is not defined",
     "output_type": "error",
     "traceback": [
      "\u001b[1;31m---------------------------------------------------------------------------\u001b[0m",
      "\u001b[1;31mNameError\u001b[0m                                 Traceback (most recent call last)",
      "\u001b[1;32m<ipython-input-1-9e801361f197>\u001b[0m in \u001b[0;36m<module>\u001b[1;34m\u001b[0m\n\u001b[0;32m     18\u001b[0m         \u001b[1;32mreturn\u001b[0m \u001b[0ma\u001b[0m\u001b[1;33m\u001b[0m\u001b[1;33m\u001b[0m\u001b[0m\n\u001b[0;32m     19\u001b[0m \u001b[1;33m\u001b[0m\u001b[0m\n\u001b[1;32m---> 20\u001b[1;33m \u001b[0max\u001b[0m\u001b[1;33m(\u001b[0m\u001b[0maf\u001b[0m\u001b[1;33m,\u001b[0m \u001b[0mE\u001b[0m\u001b[1;33m,\u001b[0m \u001b[1;36m10\u001b[0m\u001b[1;33m)\u001b[0m\u001b[1;33m,\u001b[0m \u001b[0mresultados\u001b[0m\u001b[1;33m\u001b[0m\u001b[1;33m\u001b[0m\u001b[0m\n\u001b[0m",
      "\u001b[1;31mNameError\u001b[0m: name 'af' is not defined"
     ]
    }
   ],
   "source": [
    "resultados = []\n",
    "\n",
    "def ax (af, E, n, j = 1):\n",
    "    \n",
    "    denominador = 0\n",
    "    for iterador in range(j):\n",
    "        denominador += E**iterador\n",
    "    numerador = E**j + denominador \n",
    "    divisor = numerador/denominador\n",
    "    \n",
    "    if j == n:\n",
    "        a = af/divisor\n",
    "        resultados.append(a)\n",
    "        return a\n",
    "    else:\n",
    "        a = ax(af, E, n, j+1)/divisor\n",
    "        resultados.append(a)\n",
    "        return a\n",
    "    \n",
    "ax(af, E, 10), resultados"
   ]
  }
 ],
 "metadata": {
  "kernelspec": {
   "display_name": "Python 3",
   "language": "python",
   "name": "python3"
  },
  "language_info": {
   "codemirror_mode": {
    "name": "ipython",
    "version": 3
   },
   "file_extension": ".py",
   "mimetype": "text/x-python",
   "name": "python",
   "nbconvert_exporter": "python",
   "pygments_lexer": "ipython3",
   "version": "3.8.3"
  }
 },
 "nbformat": 4,
 "nbformat_minor": 4
}
