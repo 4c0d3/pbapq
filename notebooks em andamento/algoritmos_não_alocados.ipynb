{
 "cells": [
  {
   "cell_type": "raw",
   "metadata": {
    "raw_mimetype": "text/html"
   },
   "source": [
    "$ jupyter nbconvert --to html algoritmos_não_alocados.ipynb"
   ]
  },
  {
   "cell_type": "markdown",
   "metadata": {},
   "source": [
    "**será que funcionou?**"
   ]
  },
  {
   "cell_type": "markdown",
   "metadata": {},
   "source": [
    "## Problema 5:\n",
    "\n",
    "Uma unidade de operação tem como um dos produtos o ácido acético, você precisa saber a capacidade calorifica ($C_P$) do produto (a pressão constante). A equação abaixo nos dá um modelo de $C_P$ em função de $T$.\n",
    "\n",
    "$$C_P= 2,0142 + 56,0646 \\cdot 10^{-9}T + 34,088 \\cdot 10^{-6}T^2$$\n",
    "\n",
    "$$[C_P]=Cal \\cdot g^{-1}mol^{-1}K^{-1}$$\n",
    "\n",
    "Use o comando ***input*** para criar uma interface para um operador que dá a temperatura(ºC) do processo e que ***imprime*** $C_p$ para ele.\n",
    "\n",
    "*De um contexto para o cálculo desse Cp. O que tá acontecendo nesse processo? Dica: tenta concatenar isso com a entalpia, que é geralmente pro que se usa Cp. Essa entalpia pode ser usada pro quê? Balanço de energia?*"
   ]
  },
  {
   "cell_type": "code",
   "execution_count": 1,
   "metadata": {},
   "outputs": [
    {
     "name": "stdout",
     "output_type": "stream",
     "text": [
      "T(ºC) = 0\n",
      "Cp = 4.557552440225489  Cal/(g mol K)\n"
     ]
    }
   ],
   "source": [
    "T_Celsius = float(input(\"T(ºC) = \"))\n",
    "T_Kelvin = T_Celsius + 273.15\n",
    "Cp = 2.0142 + 56.0646*10**-9*T_Kelvin + 34.088*10**-6*T_Kelvin**2\n",
    "print (\"Cp = \" + str(Cp) + \"  Cal/(g mol K)\")"
   ]
  },
  {
   "cell_type": "code",
   "execution_count": 2,
   "metadata": {},
   "outputs": [],
   "source": [
    "import matplotlib.pyplot as plt\n",
    "import numpy as np\n",
    "from scipy.integrate import odeint"
   ]
  },
  {
   "attachments": {
    "eulerdiagram.png": {
     "image/png": "[encoded data removed]"
    }
   },
   "cell_type": "markdown",
   "metadata": {},
   "source": [
    "[Método de Euler](https://pt.wikipedia.org/wiki/M%C3%A9todo_de_Euler) explícito para resolver um problema de valor inicial (PVI):\n",
    "\n",
    "$$ y'(t) = f(t, y) $$  \n",
    "$$ y_{_0}(t) = t_{_0} $$  \n",
    "$$ y_{n+1} = y_n + \\Delta y $$  \n",
    "$$ \\Delta y = \\lim_{\\Delta t \\to 0} y'(t) \\Delta t = \\lim_{\\Delta t \\to 0} f(t, y) \\Delta t $$  \n",
    "$$ y_{n+1} \\approx y_n + f(t, y) \\cdot \\Delta t $$\n",
    "\n",
    "![eulerdiagram.png](attachment:eulerdiagram.png)"
   ]
  },
  {
   "cell_type": "markdown",
   "metadata": {},
   "source": [
    "[Método Runge-Kutta](https://pt.wikipedia.org/wiki/M%C3%A9todo_de_Runge-Kutta) 4º ordem para resolver um problema de valor inicial (PVI):\n",
    "\n",
    "- Se f for apenas função de t, você pode resolver derivando normalmente.\n",
    "\n",
    "$$ y'(t) = f(t, y)$$  \n",
    "$$y_{_0}(t) = t_{_0}$$   \n",
    "$$y_{n+1} = y_n + {h \\over 6}(k_1 + 2k_2 + 2k_3 + k_4)$$  \n",
    "$$k_1 = f(t_n, y_n)$$  \n",
    "$$k_2 = f \\Bigg (t_n + {h \\over 2}, y_n + {h \\over 2} k_1 \\Bigg) $$  \n",
    "$$k_3 = f \\Bigg (t_n + {h \\over 2}, y_n + {h \\over 2} k_2 \\Bigg) $$  \n",
    "$$k_4 = f (t_n + h, y_n + h k_3) $$"
   ]
  },
  {
   "cell_type": "code",
   "execution_count": 3,
   "metadata": {},
   "outputs": [
    {
     "ename": "NameError",
     "evalue": "name 'contrario' is not defined",
     "output_type": "error",
     "traceback": [
      "\u001b[1;31m---------------------------------------------------------------------------\u001b[0m",
      "\u001b[1;31mNameError\u001b[0m                                 Traceback (most recent call last)",
      "\u001b[1;32m<ipython-input-3-a88e26abcb70>\u001b[0m in \u001b[0;36m<module>\u001b[1;34m\u001b[0m\n\u001b[1;32m----> 1\u001b[1;33m \u001b[0mts\u001b[0m \u001b[1;33m=\u001b[0m \u001b[0mcontrario\u001b[0m\u001b[1;33m(\u001b[0m\u001b[1;33m[\u001b[0m\u001b[1;33m-\u001b[0m\u001b[0mx\u001b[0m\u001b[1;33m/\u001b[0m\u001b[1;36m10000\u001b[0m \u001b[1;32mfor\u001b[0m \u001b[0mx\u001b[0m \u001b[1;32min\u001b[0m \u001b[0mrange\u001b[0m\u001b[1;33m(\u001b[0m\u001b[1;36m1\u001b[0m\u001b[1;33m,\u001b[0m \u001b[1;36m10001\u001b[0m\u001b[1;33m)\u001b[0m\u001b[1;33m]\u001b[0m\u001b[1;33m)\u001b[0m \u001b[1;33m+\u001b[0m \u001b[1;33m[\u001b[0m\u001b[0mx\u001b[0m\u001b[1;33m/\u001b[0m\u001b[1;36m10000\u001b[0m \u001b[1;32mfor\u001b[0m \u001b[0mx\u001b[0m \u001b[1;32min\u001b[0m \u001b[0mrange\u001b[0m\u001b[1;33m(\u001b[0m\u001b[1;36m1\u001b[0m\u001b[1;33m,\u001b[0m \u001b[1;36m10001\u001b[0m\u001b[1;33m)\u001b[0m\u001b[1;33m]\u001b[0m\u001b[1;33m\u001b[0m\u001b[1;33m\u001b[0m\u001b[0m\n\u001b[0m\u001b[0;32m      2\u001b[0m \u001b[0mts2\u001b[0m \u001b[1;33m=\u001b[0m \u001b[1;33m[\u001b[0m\u001b[0mx\u001b[0m\u001b[1;33m/\u001b[0m\u001b[1;36m50\u001b[0m \u001b[1;32mfor\u001b[0m \u001b[0mx\u001b[0m \u001b[1;32min\u001b[0m \u001b[0mrange\u001b[0m \u001b[1;33m(\u001b[0m\u001b[1;36m1000\u001b[0m\u001b[1;33m)\u001b[0m\u001b[1;33m]\u001b[0m\u001b[1;33m\u001b[0m\u001b[1;33m\u001b[0m\u001b[0m\n\u001b[0;32m      3\u001b[0m \u001b[0mts3\u001b[0m \u001b[1;33m=\u001b[0m \u001b[1;33m[\u001b[0m\u001b[0mx\u001b[0m\u001b[1;33m/\u001b[0m\u001b[1;36m0.5\u001b[0m \u001b[1;32mfor\u001b[0m \u001b[0mx\u001b[0m \u001b[1;32min\u001b[0m \u001b[0mrange\u001b[0m \u001b[1;33m(\u001b[0m\u001b[1;36m10\u001b[0m\u001b[1;33m)\u001b[0m\u001b[1;33m]\u001b[0m\u001b[1;33m\u001b[0m\u001b[1;33m\u001b[0m\u001b[0m\n\u001b[0;32m      4\u001b[0m \u001b[0mf\u001b[0m \u001b[1;33m=\u001b[0m \u001b[1;32mlambda\u001b[0m \u001b[0mt\u001b[0m\u001b[1;33m,\u001b[0m \u001b[0my\u001b[0m\u001b[1;33m:\u001b[0m \u001b[0mnp\u001b[0m\u001b[1;33m.\u001b[0m\u001b[0msin\u001b[0m\u001b[1;33m(\u001b[0m\u001b[0mt\u001b[0m\u001b[1;33m)\u001b[0m\u001b[1;33m**\u001b[0m\u001b[1;36m2\u001b[0m\u001b[1;33m*\u001b[0m\u001b[0my\u001b[0m\u001b[1;33m**\u001b[0m\u001b[1;36m0.5\u001b[0m\u001b[1;33m\u001b[0m\u001b[1;33m\u001b[0m\u001b[0m\n\u001b[0;32m      5\u001b[0m \u001b[1;33m\u001b[0m\u001b[0m\n",
      "\u001b[1;31mNameError\u001b[0m: name 'contrario' is not defined"
     ]
    }
   ],
   "source": [
    "ts = contrario([-x/10000 for x in range(1, 10001)]) + [x/10000 for x in range(1, 10001)]\n",
    "ts2 = [x/50 for x in range (1000)]\n",
    "ts3 = [x/0.5 for x in range (10)]\n",
    "f = lambda t, y: np.sin(t)**2*y**0.5\n",
    "\n",
    "def eulerexplicito(f, y0, ts): #explícito significa que o próprio y_n+1 não depende dele mesmo em f(t, y).\n",
    "    ys = [y0]\n",
    "    for i in range(1, len(ts)):\n",
    "        h = ts[i] - ts[i-1]\n",
    "        y = ys[i-1] + f(ts[i-1], ys[i-1])*h\n",
    "        ys.append(y)\n",
    "    return ys    \n",
    "    \n",
    "def rungekutta(f, y0, ts):   \n",
    "    ys = [y0]\n",
    "    for i in range(1, len(ts)):\n",
    "        h = ts[i] - ts[i-1]        \n",
    "        k1 = f(ts[i-1], ys[i-1]) # note a semelhança com o Euler explícito\n",
    "        k2 = f(ts[i-1] + h/2, ys[i-1] + h*k1/2)\n",
    "        k3 = f(ts[i-1] + h/2, ys[i-1] + h*k2/2)\n",
    "        k4 = f(ts[i-1] + h, ys[i-1] + h*k3)\n",
    "        \n",
    "        y = ys[i-1] + h/6*(k1 + 2*k2 + 2*k3 + k4)\n",
    "        ys.append(y)\n",
    "    \n",
    "    return ys\n",
    "\n",
    "#note que nenhum dos métodos usa ts[n], porque isso iria servir p/\n",
    "#prever y[n+1] e as listas ficariam com tamanhos diferentes. \n",
    "\n",
    "euler = eulerexplicito(f, 1, ts2)\n",
    "rkodeint = odeint(f, 1, ts2, tfirst = True)\n",
    "rkhomebrew = rungekutta(f, 1, ts2)\n",
    "euler2 = eulerexplicito(f, 1, ts3)\n",
    "rkodeint2 = odeint(f, 1, ts3, tfirst = True)\n",
    "rkhomebrew2 = rungekutta(f, 1, ts3)\n",
    "\n",
    "fig = plt.figure(figsize = (13, 7))\n",
    "grafico = fig.add_subplot(1, 1, 1)\n",
    "grafico.plot(ts2, euler)\n",
    "grafico.plot(ts2, rkodeint)\n",
    "grafico.plot(ts2, rkhomebrew, ':', c = 'black')\n",
    "grafico.plot(ts3, euler2)\n",
    "grafico.plot(ts3, rkodeint2)\n",
    "grafico.plot(ts3, rkhomebrew2, ':', c = 'purple')\n",
    "grafico.legend(('euler', 'rk odeint', 'rk homebrew', 'euler2', 'rk odeint2', 'rk homebrew2'))"
   ]
  },
  {
   "cell_type": "markdown",
   "metadata": {},
   "source": [
    "Questão 2 - Prova Final de Operações Unitárias I (EQE-473) - Ricardo Peçanha.\n",
    "Uma resina troca-íons ( 𝜌𝑠=2,75𝑔/𝑐𝑚3 ,  𝜙=0,74 ) úmida será submetida a secagem em leito fluidizado com ar pré-aquecido a 80 ºC. O vaso disponível para o serviço é cilíndrico com diâmetro de 2,0 m e deverá operar aberto para a atmosfera. Calcular a potência do soprador (em HP) necessária para secar 6,5 ton da resina com o triplo da velocidade superficial correspondente à mínima fluidização. Suponha que o rendimento eletromecânico do soprador é 75 %. A análise de peneiras das partículas da resina é dada abaixo.\n",
    "\n",
    "Observação: Numa primeira aproximação, suponha que o ar é incompressível e despreze os efeitos das trocas de calor e massa sobre as propriedades físicas da resina e do ar durante a secagem."
   ]
  },
  {
   "cell_type": "markdown",
   "metadata": {},
   "source": [
    "<table>\n",
    "    <thead>\n",
    "        <tr>\n",
    "            <th>Mesh (Tyler)</th>\n",
    "            <th>Massa (g)</th>\n",
    "        </tr>\n",
    "    </thead>\n",
    "    <tbody>\n",
    "        <tr>\n",
    "            <td>-24 +32</td>\n",
    "            <td>90</td>\n",
    "        </tr>  \n",
    "        <tr>\n",
    "            <td>-32 +42</td>\n",
    "            <td>280</td>\n",
    "        </tr>\n",
    "        <tr>\n",
    "            <td>-42 +60</td>\n",
    "            <td>150</td>\n",
    "        </tr>\n",
    "        <tr>\n",
    "            <td>-60 + 80</td>\n",
    "            <td>70</td>\n",
    "        </tr>\n",
    "    </tbody>\n",
    "</table>"
   ]
  },
  {
   "cell_type": "markdown",
   "metadata": {},
   "source": [
    "Como fazer:\n",
    "\n",
    "1º - Calcular o Diâmetro Médio de Partícula (de Sauter):\n",
    "O que está na coluna \"Mesh (Tyler)\" significa da peneira pela qual uma partícula passa (\"-\") e a peneira na que ela fica retida (\"+\"), na série de peneiras granulométricas do experimento. Consultando a referência, para converter esse tamanho de \"mesh\" para \"mm\" temos que:"
   ]
  },
  {
   "cell_type": "markdown",
   "metadata": {},
   "source": [
    "<table>\n",
    "    <thead>\n",
    "        <tr>\n",
    "            <th>Mesh (Tyler)</th>\n",
    "            <th>d(mm)</th>\n",
    "        </tr>\n",
    "    </thead>\n",
    "    <tbody>\n",
    "        <tr>\n",
    "            <td>24</td>\n",
    "            <td>0.707</td>\n",
    "        </tr>  \n",
    "        <tr>\n",
    "            <td>32</td>\n",
    "            <td>0.5</td>\n",
    "        </tr>\n",
    "        <tr>\n",
    "            <td>42</td>\n",
    "            <td>0.354</td>\n",
    "        </tr>\n",
    "        <tr>\n",
    "            <td>60</td>\n",
    "            <td>0.25</td>\n",
    "        </tr>\n",
    "        <tr>\n",
    "            <td>80</td>\n",
    "            <td>0.177</td>\n",
    "        </tr>\n",
    "    </tbody>\n",
    "</table>"
   ]
  },
  {
   "cell_type": "markdown",
   "metadata": {},
   "source": [
    "## Problema 4:\n",
    "\n",
    "É muito comum na otimização de um processo, o critério econômico ser o decisivo, optando-se processo mais barato sempre que possível. Entretanto, o mais barato nem sempre atende todos os requerimentos necessários para que um projeto possa ser colocado em funcionamento. Por exemplo, um processo de produção de ácido sulfúrico sem uma etapa de tratamento do efluente gasoso muito rígida é certamente mais barata que um processo que contém esta etapa; entretanto, ele não vai poder ser colocado em operação porque o nível de emissão de $SO_x$ será muito mais alto do que aceitado pela legislação. Dessa forma, projetos reais muitas vezes são otimizados por dois ou mais pontos de vistas: um econômico e as variáveis de fronteira, que vão delimitar os limites operacionais do projeto. Pré-requisitos de segurança, ambientais, da qualidade do produto, etc. colocarão limites à otimização pela variável econômica. Uma vez que o limite está bem definido, aí sim, então, a condição definida visará o maior custo-benefício.\n",
    "\n",
    "Na indústria dos elementos de terras-raras (ETR), um lixiviado de monazita, rico nos ETRs leves, é comumente separado em duas frações de elementos: \n",
    "                                        **Fração Leve     |     Samário + Fração Pesada.** \n",
    "\n",
    "Um pré-requisito que delimita a fronteira econômica, é a pureza do rafinado ou da fase orgânica carregada, obtida no processo de separação. Essas são as condições que qualificam uma fronteira para otimização do ponto de vista econômico:\n",
    "\n",
    "- Se o processo for uma extração, o rafinado deve ter pureza da fração leve superior à 99.5% E a recuperação da fração leve na fase aquosa deve ser maior que 70%.\n",
    "- Se o processo for uma lavagem, o rafinado deve ter uma pureza da fração leve superior à 99.5% OU a fase orgânica não deve ser composta por mais que 0.5% da fração leve.\n",
    "    \n",
    "Crie uma função que receba o tipo processo, a pureza do rafinado, a recuperação da fração leve e a quantidade da fração leve na fase orgânica e que diz se o processo deve ser está adequado para ser analisado do ponto de vista econômico."
   ]
  },
  {
   "cell_type": "code",
   "execution_count": 4,
   "metadata": {},
   "outputs": [],
   "source": [
    "def avalia_condicao(processo, pureza_raf, rec, leve_org):\n",
    "    if (\n",
    "        processo == 'extração' and pureza_raf >= 0.995 and rec >= 0.7 or \n",
    "        processo == 'lavagem' and (pureza_raf >= 0.995 or leve_org <= 0.005)\n",
    "       ):\n",
    "        return 'viável'\n",
    "    else:\n",
    "        return 'inviável'"
   ]
  },
  {
   "cell_type": "markdown",
   "metadata": {},
   "source": [
    "tire os parênteses de \"(pureza_raf >= 0.995 or leve_org <= 0.005)\" e teste para avalia_condicao('extração', 0.9, 0.69, 0.0001). Você consegue explicar por que isso acontece?\n",
    "\n",
    "R: Ele vai enxergar o \"processo == 'lavagem' and pureza_raf >= 0.995\" como uma coisa só antes de passar para o operador OR, porque o AND tem precedência sobre ele. Logo, tudo do lado direito de OR que seja verdadeiro vai passar a validar a condição inteira, o que não acontece quando os parênteses estão presentes.\n",
    "\n",
    "troque \"processo == 'lavagem'\" por \"not processo == 'extração'\" e teste para avalia_condicao('extração', 0.9, 0.69, 0.0001) e para avalia_condicao('lavagem', 0.9, 0.69, 0.01) e para avalia_condicao('qualquercoisa', 0.9, 0.69, 0.01). Você consegue explicar por que isso acontece?\n",
    "\n",
    "R: O operador NOT muda o valor de uma afirmação para seu oposto (Se V, então F; se F, então V) e é lido primeiro que AND. Logo, o fato de não ser uma extração é lido como verdadeiro. Os parênteses contém uma recuperação de 0.0001 que também qualifica o OR como verdadeiro. V AND V é lido, por último, o que é V. Se trocamos 0.0001 por 0.01, temos V AND F, o que é F. \"not processo == 'extração'\" não significa \"processo == 'lavagem'\", pode ser também \"processo == 'qualquercoisa'\" ou \"processo == 'qualqueroutracoisa'\".\n",
    "\n",
    "troque \"not processo == 'extração' and (pureza_raf >= 0.995 or leve_org <= 0.005)\" por \"not (processo == 'extração' and (pureza_raf >= 0.995 or leve_org <= 0.005)). Teste para avalia_condicao('lavagem', 0.9, 0.69, 0.01)\". Você consegue explicar porque isso acontece?\n",
    "\n",
    "R: Agora o NOT é lido por último, e o valor final só será verdadeiro se o valor no parênteses for falso. Como o processo não é uma extração, ele já falsifica o AND para qualquer falte de pureza, recuperação e fração leve no orgânico. A negação do FALSE é TRUE, então o projeto de mostra como viável, apesar de isso ser absurdo.\n",
    "\n",
    "Lição do dia:\n",
    "\n",
    "𝑁𝑂𝑇>𝐴𝑁𝐷>𝑂𝑅\n",
    " \n",
    "USE PARÊNTESES."
   ]
  },
  {
   "cell_type": "markdown",
   "metadata": {},
   "source": [
    "## Problema 1: (Loop For)"
   ]
  },
  {
   "cell_type": "code",
   "execution_count": 1,
   "metadata": {},
   "outputs": [
    {
     "ename": "NameError",
     "evalue": "name 'concentracao' is not defined",
     "output_type": "error",
     "traceback": [
      "\u001b[1;31m---------------------------------------------------------------------------\u001b[0m",
      "\u001b[1;31mNameError\u001b[0m                                 Traceback (most recent call last)",
      "\u001b[1;32m<ipython-input-1-f7abdb655b9e>\u001b[0m in \u001b[0;36m<module>\u001b[1;34m\u001b[0m\n\u001b[0;32m     16\u001b[0m \u001b[0mX1s\u001b[0m\u001b[1;33m,\u001b[0m \u001b[0mY1s\u001b[0m \u001b[1;33m=\u001b[0m \u001b[0mnp\u001b[0m\u001b[1;33m.\u001b[0m\u001b[0mmeshgrid\u001b[0m\u001b[1;33m(\u001b[0m\u001b[0mx1s\u001b[0m\u001b[1;33m,\u001b[0m \u001b[0my1s\u001b[0m\u001b[1;33m)\u001b[0m\u001b[1;33m\u001b[0m\u001b[1;33m\u001b[0m\u001b[0m\n\u001b[0;32m     17\u001b[0m \u001b[0mX2s\u001b[0m\u001b[1;33m,\u001b[0m \u001b[0mY2s\u001b[0m \u001b[1;33m=\u001b[0m \u001b[0mnp\u001b[0m\u001b[1;33m.\u001b[0m\u001b[0mmeshgrid\u001b[0m\u001b[1;33m(\u001b[0m\u001b[0mx1s\u001b[0m\u001b[1;33m,\u001b[0m \u001b[0my2s\u001b[0m\u001b[1;33m)\u001b[0m\u001b[1;33m\u001b[0m\u001b[1;33m\u001b[0m\u001b[0m\n\u001b[1;32m---> 18\u001b[1;33m \u001b[0mConcentracoes1\u001b[0m \u001b[1;33m=\u001b[0m \u001b[0mconcentracao\u001b[0m\u001b[1;33m(\u001b[0m\u001b[0mX1s\u001b[0m\u001b[1;33m,\u001b[0m \u001b[0mY1s\u001b[0m\u001b[1;33m)\u001b[0m\u001b[1;33m\u001b[0m\u001b[1;33m\u001b[0m\u001b[0m\n\u001b[0m\u001b[0;32m     19\u001b[0m \u001b[0mConcentracoes2\u001b[0m \u001b[1;33m=\u001b[0m \u001b[0mconcentracao\u001b[0m\u001b[1;33m(\u001b[0m\u001b[0mX2s\u001b[0m\u001b[1;33m,\u001b[0m \u001b[0mY2s\u001b[0m\u001b[1;33m)\u001b[0m\u001b[1;33m\u001b[0m\u001b[1;33m\u001b[0m\u001b[0m\n\u001b[0;32m     20\u001b[0m \u001b[0mConcentracoes1\u001b[0m \u001b[1;33m=\u001b[0m \u001b[0mma\u001b[0m\u001b[1;33m.\u001b[0m\u001b[0mmasked_where\u001b[0m\u001b[1;33m(\u001b[0m\u001b[0mConcentracoes1\u001b[0m \u001b[1;33m<\u001b[0m \u001b[1;36m10\u001b[0m\u001b[1;33m,\u001b[0m \u001b[0mConcentracoes1\u001b[0m\u001b[1;33m)\u001b[0m\u001b[1;33m\u001b[0m\u001b[1;33m\u001b[0m\u001b[0m\n",
      "\u001b[1;31mNameError\u001b[0m: name 'concentracao' is not defined"
     ]
    }
   ],
   "source": [
    "import numpy as np\n",
    "from numpy import ma\n",
    "import matplotlib.pyplot as plt\n",
    "from matplotlib import ticker, cm\n",
    "import matplotlib.colors as colors\n",
    "import matplotlib.cbook as cbook                                \n",
    "\n",
    "aegl1 = 30 #mg/m³\n",
    "aegl2 = 160 #mg/m³\n",
    "aegl3 = 1100 #mg/m³\n",
    "\n",
    "x1s = [i for i in np.logspace(0, 4, 300)]\n",
    "y1s = [i for i in np.logspace(0, 3, 300)]\n",
    "y2s = [-i for i in np.logspace(0, 3, 300)]\n",
    "\n",
    "X1s, Y1s = np.meshgrid(x1s, y1s)\n",
    "X2s, Y2s = np.meshgrid(x1s, y2s)\n",
    "Concentracoes1 = concentracao(X1s, Y1s)\n",
    "Concentracoes2 = concentracao(X2s, Y2s)\n",
    "Concentracoes1 = ma.masked_where(Concentracoes1 < 10, Concentracoes1)\n",
    "Concentracoes2 = ma.masked_where(Concentracoes2 < 10, Concentracoes2)\n",
    "gambiarra1, gambiarra2 = np.meshgrid(np.array([0, 1]), np.array([0, 1]))\n",
    "\n",
    "\n",
    "fundo = plt.figure(figsize = (14, 10))\n",
    "contorno = fundo.add_subplot(1, 1, 1)\n",
    "\n",
    "gambiarra = contorno.contourf(gambiarra1, gambiarra2, gambiarra2, cmap = cm.Blues, \n",
    "                              levels = [aegl1, aegl2, aegl3])\n",
    "metadeSuperior = contorno.contourf(X1s, Y1s, Concentracoes1, cmap = cm.Blues,\n",
    "                                   norm=colors.LogNorm(vmin=aegl1, vmax=aegl3), levels = [aegl1, aegl2, aegl3, 1e6])\n",
    "metadeInferior = contorno.contourf(X2s, Y2s, Concentracoes2, cmap = cm.Blues, \n",
    "                                   norm=colors.LogNorm(vmin=aegl1, vmax=aegl3), levels = [aegl1, aegl2, aegl3, 1e6])\n",
    "contorno.set_ylabel('Y')\n",
    "contorno.set_xlabel('X')\n",
    "contorno.set_title(\"Azul Claro > AEGL1 \\t \\t \\t Azul > AEGL2  \\t \\t \\t Azul Escuro > AEGL3\")\n",
    "contorno.set_ylim(-2000, 2000)\n",
    "contorno.set_xlim(0, 10000)\n",
    "cb = fundo.colorbar(gambiarra, ax=contorno)"
   ]
  }
 ],
 "metadata": {
  "_draft": {
   "nbviewer_url": "https://gist.github.com/97d3996886151be3bd45be5e84f40907"
  },
  "celltoolbar": "Raw Cell Format",
  "gist": {
   "data": {
    "description": "Python/Curso Liga de Modelagem/Listas de Exercícios/Algoritmos não alocados.ipynb",
    "public": true
   },
   "id": "97d3996886151be3bd45be5e84f40907"
  },
  "kernelspec": {
   "display_name": "Python 3",
   "language": "python",
   "name": "python3"
  },
  "language_info": {
   "codemirror_mode": {
    "name": "ipython",
    "version": 3
   },
   "file_extension": ".py",
   "mimetype": "text/x-python",
   "name": "python",
   "nbconvert_exporter": "python",
   "pygments_lexer": "ipython3",
   "version": "3.8.3"
  }
 },
 "nbformat": 4,
 "nbformat_minor": 4
}
