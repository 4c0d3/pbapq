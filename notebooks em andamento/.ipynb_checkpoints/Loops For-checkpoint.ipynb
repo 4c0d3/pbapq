{
 "cells": [
  {
   "cell_type": "markdown",
   "metadata": {},
   "source": [
    "## Problema 1:\n",
    "\n",
    "Interpolação e extrapolação linear são duas técnicas muito comuns para obtermos alguma propriedade tabelada, cujos valores na tabela não são precisamente o que queremos, mas estão suficientemente próximos.\n",
    "\n",
    "Para dois pontos $x_1$ e $x_2$, $x_1 < x_2$, cujas propriedades $y_1$ e $y_2$ pertencentes aos pontos estejam tabeladas, podemos descobrir a propriedade $y$ de um terceiro ponto $x$ não tabelado, usando interpolação, caso $x_1 < x < x_2$ ou extrapolação, caso $x < x_1$ ou $x > x_2$.\n",
    "\n",
    "Para que a interpolação ou extrapolação linear sejam válidas, a função deve ser contínua no intervalo e com comportamento linear (ou suficientemente próximo do linear). Principalmente para extrapolações, é desejável que o ponto a ser obtido não esteja distante dos pontos conhecidos, por que o seu uso está comumente associado à modelos empíricos ou semi-empíricos, que possuem uma faixa de validade restrita.\n",
    "\n",
    "A interpolação e a extrapolação linear para encontrar uma propriedade $y$ são dadas pela seguinte fórmula:\n",
    "\n",
    "$$ y = y_1 + (y_2 - y_1) \\cdot {(x - x_1) \\over (x_2 - x_1)}$$"
   ]
  },
  {
   "cell_type": "markdown",
   "metadata": {},
   "source": [
    "A relação entre temperatura ($T$, em $K$) e a viscosidade de cinemática ($\\gamma$) de um líquido é dada por uma modificação relação semi-empírica de Andrade, abaixo:\n",
    "\n",
    "$$ ln \\gamma = ln \\gamma_0 + {A \\over RT}$$\n",
    "\n",
    "Onde $A$ é uma constante experimental e $R$ a constante dos gases ideais.\n",
    "\n",
    "A viscosidade de um fluido pode ser medida pelo [viscosímetro de Höpler](https://www.youtube.com/watch?v=7BS3O_i1Fng). Utilizando o mesmo, $\\gamma$ será dado pela seguinte relação semi-empírica:\n",
    "\n",
    "$$ \\gamma = \\biggl({\\rho_b \\over \\rho_L} -1 \\biggr) \\cdot Bt $$\n",
    "\n",
    "Onde $\\rho_B (g/cm^3)$ é a viscosidade da bola, $\\rho_L (g/cm^3)$ a viscosidade do líquido, na temperatura do experimento, $B (cm^2/s^2)$ é uma constante característica da bola e do aparelho e $t (s)$ é o tempo de queda. \n",
    "\n",
    "Abaixo segue um quadro de experimentos realizados, cujo objetivo foi o de observar a relação linear entre $ln \\gamma$ e $1/T$, usando uma esfera de chumbo e a água como líquido.\n",
    "\n",
    "|Medidas|T(ºC)       |$t_1$|$t_2$|$t_3$|\n",
    "|:------|:----------:|:---:|:---:|:---:|\n",
    "|1      |25,5        |70,35|71,06|70,84|\n",
    "|2      |27,0        |68,22|68,16|68,40|\n",
    "|3      |29,0        |65,44|65,09|65,07|\n",
    "|4      |32,0        |60,91|60,56|60,75|\n",
    "|5      |35,0        |57,37|56,91|57,12|\n",
    "\n",
    "E esses são os valores tabelados para $\\rho_L$ para $T(K)$ na faixa estudada, retirado do *Perry's Chemical Engineer's Handbook*.\n",
    "\n",
    "| T(K)       | $\\rho_{H_2O} $ |\n",
    "|------------|:--------------:|\n",
    "|300         |996,513         |\n",
    "|302         |995,948         |\n",
    "|304         |995,346         |\n",
    "|306         |994,711         |\n",
    "|308         |994,042         |\n",
    "|310         |993,342         |\n",
    "\n",
    "$B = 8,636 \\cdot 10^{-5} cm^2/s^2$  \n",
    "$\\rho_B = 12,412 g/cm^3$"
   ]
  },
  {
   "cell_type": "markdown",
   "metadata": {},
   "source": [
    "A linearidade da curva $ln \\gamma$ vs $1/T$ pode ser determinada encontrando a equação da reta, cujo o quadrado da distância entre ela e os pontos (resíduos) é mínima. Esse método é chamado de [Método dos Mínimos Quadrados](https://pt.wikipedia.org/wiki/M%C3%A9todo_dos_m%C3%ADnimos_quadrados).\n",
    "\n",
    "O coeficiente de determinação dessa reta $R^2$, representa o quão bem a reta efetivamente correlaciona os pontos cujas distâncias ela minimiza. Quando a reta descrita apresenta um $R^2$ de 1, isso denota uma correlação perfeita ou inversamente perfeita dos pontos e uma variação em $x$ explica completamente uma variação em $y$. Quanto mais distante de 1 e mais próximo de 0 $R^2$ se torna, menor é a correlação entre $x$ e $y$; isto é, menor é a capacidade do modelo, com uma variação em $x$, prever uma variação em $y$.\n",
    "\n",
    "Para uma dada reta a ser ajustada, do tipo $$y = ax + b$$ podemos determinar $a$, $b$ e $R^2$ da seguinte forma:\n",
    "\n",
    "$$ a = {\\Sigma^{n}_{i = 1}  x_i (y_i - \\overline {y}) \\over \\Sigma^{n}_{i = 1} x_i (x_i - \\overline {x})}$$\n",
    "\n",
    "$$ b = \\overline {y} - a \\overline {x} $$\n",
    "\n",
    "$$ R^2 = 1 - {\\Sigma^{n}_{i = 1} [y_i - (ax_i + b)]^2 \\over \\Sigma^{n}_{i = 1} (y_i - \\overline {y})^2}$$\n",
    "\n",
    "$\\overline {x}$ - média dos pontos em $x$.  \n",
    "$\\overline {y}$ - média dos pontos em $y$.  \n",
    "$x_i$ - coordenada $x$ do $i$-ésimo ponto.  \n",
    "$y_i$ - coordenada $y$ do $i$-ésimo ponto."
   ]
  },
  {
   "cell_type": "markdown",
   "metadata": {},
   "source": [
    "- Crie uma função que recebendo $x, x_1, x_2, y_1$ e $y_2$ como parâmetros, retorna $y$, por interporlação ou extrapolação linear.\n",
    "- Use o conversor de temperaturas feito no notebook de operadores condicionais para transformar as temperaturas experimentais de ºC para K.\n",
    "- Use a função inter/extrapoladora para encontrar as densidades da água nas temperaturas do experimento.\n",
    "    - Para isso, você vai precisar de uma função que encontre os pontos x1, x2, y1 e y2 corretos para fazer a inter/extrapolação.\n",
    "    - Crie uma função que receba o x (temperatura do experimento) e que percorre a lista de temperaturas tabelas e encontra x1 e x2.\n",
    "        - Se x for menor que o primeiro elemento ou maior que o último elemento, ele fará uma extrapolação e x1 e x2 serão os 2 primeiros e os 2 últimos, respectivamente. Do contrário, ele fará uma interpolação e x1 será o elemento imediatamente abaixo de x e x2 o imediatamente acima.\n",
    "     - Crie uma função que repete o processo acima para cada temperatura experimental e coloca esses valores dentro da função inter/extrapoladora que você criou no 1º passo; e guarda os resultados (y) numa lista.\n",
    "         - Lembre-se da função append para realizar esta última etapa.\n",
    "---        \n",
    "- Crie uma função que recebe a triplicata de tempos de queda em cada experimento e retorne a média desses valores.\n",
    "- Crie uma função que recebe os parâmetros $\\rho_{H_2O} $, $t$, $B$, $\\rho_B$ e encontra a viscosidade cinemática $\\gamma$ para cada condição.\n",
    "- Crie uma função que receba T e retorne 1/T (use a notação lambda).\n",
    "- Crie uma função que receba $\\gamma$ e retorna $ln \\gamma$ *importe o módulo **math** e use o **math.log** para isso*.\n",
    "---\n",
    "- Importe o **matplotlib.pyplot** e crie um gráfico $\\gamma$ vs $1/T$. *Em caso de dúvidas, recomendamos que se olhe os notebooks anteriores, onde gráficos 1D foram criados*.\n",
    "---\n",
    "- Verifique a linearidade do experimento (ou a falta dela), realizando uma regressão linear, pelo método dos mínimos quadrados e determinando seu coeficiente de determinação.\n",
    "    - *Dica: use a função que calcula médias, que você já criou para os tempos, para calcular $\\overline{x}$ e $\\overline{y}$.*\n",
    "---\n",
    "Bônus:\n",
    "- Qual o significado físico de $\\gamma_0$?\n",
    "- Qual o valor de $A$? Qual o significado físico de A?\n",
    "---\n",
    "\n",
    "***Antes de começar a fazer seu código, crie um fluxograma (pseudocódigo) para organizar as tarefas e manter o objetivo claro***."
   ]
  },
  {
   "cell_type": "code",
   "execution_count": 4,
   "metadata": {},
   "outputs": [],
   "source": [
    "def acha_ponto (x, x1, x2, y1, y2):\n",
    "    return y1 + (y2 - y1)*(x - x1)/(x2 - x1)"
   ]
  },
  {
   "cell_type": "code",
   "execution_count": 5,
   "metadata": {},
   "outputs": [],
   "source": [
    "def conversor_temperatura(t, escala_i, escala_f):\n",
    "    \n",
    "    if escala_i == escala_f:\n",
    "        return t\n",
    "    \n",
    "    else:\n",
    "        if escala_i == 'celsius':\n",
    "            if escala_f == 'kelvin':\n",
    "                return t + 273.15\n",
    "            elif escala_f == 'fahrenheit':\n",
    "                return t * 9/5 + 32\n",
    "            else:\n",
    "                return t * 9/5 + 491.67\n",
    "            \n",
    "        elif escala_i == 'kelvin':\n",
    "            if escala_f == 'celsius':\n",
    "                return t - 273.15\n",
    "            elif escala_f == 'fahrenheit':\n",
    "                return (t - 273.15) * 9/5 + 32\n",
    "            else:\n",
    "                return t * 9/5\n",
    "            \n",
    "        elif escala_i == 'fahrenheit':\n",
    "            if escala_f == 'celsius':\n",
    "                return (t - 32) * 5/9\n",
    "            elif escala_f == 'kelvin':\n",
    "                return (t - 32) * 5/9 + 273.15\n",
    "            else:\n",
    "                return t + 459.67\n",
    "        \n",
    "        else:\n",
    "            if escala_f == 'celsius':\n",
    "                return t * 5/9 - 273.15\n",
    "            elif escala_f == 'kelvin':\n",
    "                return t * 5/9\n",
    "            else:\n",
    "                return t - 459.67  "
   ]
  },
  {
   "cell_type": "code",
   "execution_count": 6,
   "metadata": {},
   "outputs": [],
   "source": [
    "def acha_proximos(x, x_tabelados):\n",
    "    \n",
    "    if x > x_tabelados[-1]:\n",
    "        i = -1\n",
    "        x1 = x_tabelados[i-1]\n",
    "        x2 = x_tabelados[i]\n",
    "        \n",
    "    elif x < x_tabelados[0]:\n",
    "        i = 1\n",
    "        x1 = x_tabelados[i-1]\n",
    "        x2 = x_tabelados[i]\n",
    "        \n",
    "    else:\n",
    "        i = 0\n",
    "        while x > x_tabelados[i]:\n",
    "            i += 1\n",
    "        x1 = x_tabelados[i-1]\n",
    "        x2 = x_tabelados[i]\n",
    "        \n",
    "    return x1, x2, i\n",
    "\n",
    "def testa_pontos(x_desconhecidos, x_tabelados, y_tabelados): \n",
    "    \n",
    "    y_desconhecidos = []\n",
    "    \n",
    "    for x in x_desconhecidos:\n",
    "        x1, x2, i = acha_proximos(x, x_tabelados)\n",
    "        y1, y2 = y_tabelados[i-1], y_tabelados[i]\n",
    "        y = acha_ponto(x, x1, x2, y1, y2)        \n",
    "        y = round(y, 3)\n",
    "        y_desconhecidos.append(y)\n",
    "    \n",
    "    return y_desconhecidos"
   ]
  },
  {
   "cell_type": "code",
   "execution_count": 7,
   "metadata": {},
   "outputs": [],
   "source": [
    "def calcula_media(lista_tempos):\n",
    "    n = len(lista_tempos)\n",
    "    soma_tempos = 0\n",
    "    for tempo in lista_tempos:\n",
    "        soma_tempos += tempo\n",
    "    tempo_medio = soma_tempos/n\n",
    "    return tempo_medio"
   ]
  },
  {
   "cell_type": "code",
   "execution_count": 8,
   "metadata": {},
   "outputs": [
    {
     "name": "stdout",
     "output_type": "stream",
     "text": [
      "[298.65, 300.15, 302.15, 305.15, 308.15] \n",
      " [0.9968940000000001, 0.996471, 0.995903, 0.994981, 0.99399]\n"
     ]
    }
   ],
   "source": [
    "t_celsius = [25.5, 27, 29, 32, 35]\n",
    "t_kelvin = [conversor_temperatura(t, 'celsius', 'kelvin') for t in t_celsius]\n",
    "t_tabeladas = [300, 302, 304, 306, 308, 310]\n",
    "d_tabeladas = [996.513, 995.948, 995.346, 994.711, 994.042, 993.342]\n",
    "d_experimento = testa_pontos(t_kelvin, t_tabeladas, d_tabeladas)\n",
    "d_experimento = [d/1000 for d in d_experimento] #convertendo de kg/m³ para g/cm³\n",
    "\n",
    "print(t_kelvin, '\\n', d_experimento)\n",
    "#A gente precisa se preocuperar caso o x testado já esteja tabelado? Dá erro na função?"
   ]
  },
  {
   "cell_type": "code",
   "execution_count": 9,
   "metadata": {},
   "outputs": [
    {
     "data": {
      "text/plain": [
       "[70.75, 68.26, 65.2, 60.74, 57.13333333333333]"
      ]
     },
     "execution_count": 9,
     "metadata": {},
     "output_type": "execute_result"
    }
   ],
   "source": [
    "t1 = [70.35, 71.06, 70.84]\n",
    "t2 = [68.22, 68.16, 68.40]\n",
    "t3 = [65.44, 65.09, 65.07]\n",
    "t4 = [60.91, 60.56, 60.75]\n",
    "t5 = [57.37, 56.91, 57.12]\n",
    "tempos = [t1, t2, t3, t4, t5]\n",
    "tempos_medios = [calcula_media(t) for t in tempos]\n",
    "tempos_medios"
   ]
  },
  {
   "cell_type": "code",
   "execution_count": 10,
   "metadata": {},
   "outputs": [
    {
     "data": {
      "text/plain": [
       "[0.0699632610957835,\n",
       " 0.06753210626689027,\n",
       " 0.0645447375167903,\n",
       " 0.06019014054883622,\n",
       " 0.05667748887247022]"
      ]
     },
     "execution_count": 10,
     "metadata": {},
     "output_type": "execute_result"
    }
   ],
   "source": [
    "B = 8.636e-5 #cm²/s²\n",
    "d_bola = 12.412 #g/cm³\n",
    "\n",
    "import math as mt\n",
    "\n",
    "viscosidade = lambda d_h2o, tempo: (d_bola/d_h2o - 1)* B*tempo\n",
    "viscosidades = list(map(viscosidade, d_experimento, tempos_medios))\n",
    "ln_gamma = [mt.log(visc) for visc in viscosidades]\n",
    "inverso_T = [1/T for T in t_kelvin]\n",
    "\n",
    "viscosidades"
   ]
  },
  {
   "cell_type": "code",
   "execution_count": 11,
   "metadata": {},
   "outputs": [
    {
     "data": {
      "text/plain": [
       "Text(0.5, 0, '1/T')"
      ]
     },
     "execution_count": 11,
     "metadata": {},
     "output_type": "execute_result"
    },
    {
     "data": {
      "image/png": "[encoded data removed]",
      "text/plain": [
       "<Figure size 432x288 with 1 Axes>"
      ]
     },
     "metadata": {
      "needs_background": "light"
     },
     "output_type": "display_data"
    }
   ],
   "source": [
    "import matplotlib.pyplot as plt\n",
    "\n",
    "fig = plt.figure()\n",
    "grafico = fig.add_subplot()\n",
    "pontos = grafico.plot(inverso_T, ln_gamma, marker = 'o', markersize = 6)\n",
    "grafico.set_ylabel('ln gamma')\n",
    "grafico.set_xlabel('1/T')"
   ]
  },
  {
   "cell_type": "code",
   "execution_count": 12,
   "metadata": {},
   "outputs": [],
   "source": [
    "def equacao_reta(lista_x, lista_y): \n",
    "    x_medio = calcula_media(lista_x)\n",
    "    y_medio = calcula_media(lista_y)\n",
    "    numerador_a = denominador_a = numerador_r2 = denominador_r2 = 0\n",
    "    \n",
    "    for i in range(len(lista_x)):       \n",
    "        numerador_a += lista_x[i]*(lista_y[i] - y_medio) \n",
    "        denominador_a += lista_x[i]*(lista_x[i] - x_medio)        \n",
    "    coeficiente_angular = numerador_a/denominador_a\n",
    "    coeficiente_linear = y_medio - coeficiente_angular * x_medio\n",
    "    \n",
    "    for i in range(len(lista_x)):\n",
    "        numerador_r2 += (lista_y[i] - (lista_x[i] * coeficiente_angular + coeficiente_linear))**2\n",
    "        denominador_r2 += (lista_y[i] - y_medio)**2\n",
    "    r2 = 1 - numerador_r2/denominador_r2\n",
    "    \n",
    "    return coeficiente_angular, coeficiente_linear, r2"
   ]
  },
  {
   "cell_type": "code",
   "execution_count": 13,
   "metadata": {},
   "outputs": [
    {
     "data": {
      "text/plain": [
       "(2051.4082065892017, -9.52973460599771, 0.999465758096975)"
      ]
     },
     "execution_count": 13,
     "metadata": {},
     "output_type": "execute_result"
    }
   ],
   "source": [
    "a, b, r2 = equacao_reta(inverso_T, ln_gamma)\n",
    "a, b, r2"
   ]
  },
  {
   "cell_type": "code",
   "execution_count": 14,
   "metadata": {},
   "outputs": [
    {
     "data": {
      "text/plain": [
       "17.055407829582624"
      ]
     },
     "execution_count": 14,
     "metadata": {},
     "output_type": "execute_result"
    }
   ],
   "source": [
    "R = 8.314 #J mol^-1 K^-1\n",
    "A = a * R/1000 # KJ/mol\n",
    "A\n",
    "\n",
    "# gamma_0 é a viscosidade prevista pelo modelo para a água numa temperatura infinita (1/T tendendo a 0).\n",
    "# essa é a viscosidade mínima que o líquido poderia ter se o modelo fosse válido em qualquer temperatura.\n",
    "# por motivos óbvios, esse modelo não é válido indefinidamente... mas na faixa estudada ele é válido.\n",
    "\n",
    "# A é uma \"energia de ativação\" necessária para colocar a bolinha em movimento.\n",
    "# Compare a equação com o modelo cinético de Arrhenius que a ideia ficará mais clara."
   ]
  },
  {
   "cell_type": "markdown",
   "metadata": {},
   "source": [
    "## Problema 2:\n",
    "\n",
    "### Derivadas de 1º Ordem\n",
    "\n",
    "$$ {df \\over dt} = \\lim_{h \\to 0} {f(t+h) - f(t) \\over h} $$\n",
    "\n",
    "Nós podemos calcular derivadas de maneira numérica pela definição da derivada como um limite. \n",
    "\n",
    "Calcular a derivada num ponto particular é uma tarefa trivial e pode ser feita apenas com os conceitos mostrados nas duas primeiras semanas. Mais interessante é calcular a derivada em vários pontos e plotar essa derivada frente a função original.\n",
    "\n",
    "Mais ainda, podemos pegar essa derivada numérica e comparar com o plot da derivada de funções que conhecemos a derivada analítica.\n",
    "\n",
    "Mãos à obra:\n",
    "\n",
    "- Crie uma função $f(t)$ da sua escolha e outra função que seja sua respectiva ${df \\over dt}$ seja conhecida.\n",
    "- Crie uma função que recebe $f$, $t$ e $h$ e devolve a derivada numérica no ponto t, usando a definição da derivida como limite.\n",
    "- Crie uma lista com vários tempos diferentes.\n",
    "    - dica: use compreensão de lista com range.\n",
    "- Crie uma função que use a lista de tempos e a função da derivada numérica e calcula derivada para vários tempos.\n",
    "    - dica: $h$ é o intervalo infinitesimal entre dois $t$, use isso ao seu favor para tornar seu código mais limpo e adaptável para diferentes precisões.\n",
    "    - dica2: guarde os resultados numa lista usando o append.\n",
    "- use o combo $list$ & $map$ para gerar uma lista de resultados da derivada analítica.\n",
    "- plote a função e as derivadas analítica e numérica.\n",
    "    - dica: não precisa importar a biblioteca gráfica novamente, você já a importou no Problema 1.\n",
    "    - dica2: mexa nos valores de h para testar o incremento necessário para manter os resultados qualitativamente próximos da solução analítica.\n",
    "\n",
    "*desafio: crie uma função capaz de espelhar essa lista no eixo y, para que você crie valores negativos de $t$ automaticamente com a lista original. você pode juntar listas usando $+$, mas a ordem afeta o resultado.*"
   ]
  },
  {
   "cell_type": "code",
   "execution_count": 16,
   "metadata": {},
   "outputs": [
    {
     "data": {
      "text/plain": [
       "(-1.3, 5.3)"
      ]
     },
     "execution_count": 16,
     "metadata": {},
     "output_type": "execute_result"
    },
    {
     "data": {
      "image/png": "[encoded data removed]",
      "text/plain": [
       "<Figure size 432x288 with 1 Axes>"
      ]
     },
     "metadata": {
      "needs_background": "light"
     },
     "output_type": "display_data"
    }
   ],
   "source": [
    "def contrario(ts):\n",
    "    ts_contrarios = []\n",
    "    for i in range(len(ts)):\n",
    "        ts_contrarios.append(ts[-i-1])\n",
    "    return ts_contrarios\n",
    "\n",
    "def f(t):\n",
    "    return t**5\n",
    "\n",
    "def derivada_f(t):\n",
    "    return 5*t**4\n",
    "\n",
    "def derivada_pontual(f, t, h):\n",
    "    dfdt = (f(t+h)-f(t))/h\n",
    "    return dfdt\n",
    "\n",
    "def varias_derivadas(f, ts):\n",
    "    \n",
    "    dfdts = []\n",
    "    for i in range(len(ts)-1):\n",
    "        h = ts[i+1] - ts[i]\n",
    "        dfdt = derivada_pontual(f, ts[i], h)\n",
    "        dfdts.append(dfdt)\n",
    "        \n",
    "    return dfdts\n",
    "\n",
    "ts = contrario([-x/10000 for x in range(1, 10001)]) + [x/10000 for x in range(1, 10001)]\n",
    "sol_numerica = varias_derivadas(f, ts)\n",
    "sol_analitica = list(map(derivada_f, ts[:-1]))\n",
    "funcao = list(map(f, ts[:-1]))\n",
    "\n",
    "\n",
    "#dica: crie suas funções lambda e procure soluções analíticas p/ elas na web. \n",
    "#Compare a analítica com a derivada numérica da função.\n",
    "#brinque de dar zoom e compare as soluções númerica e analítica.\n",
    "\n",
    "plt.plot(ts[:-1], sol_numerica, c = 'orange')\n",
    "plt.plot(ts[:-1], sol_analitica, 'b:')\n",
    "plt.plot(ts[:-1], funcao, c = 'purple')\n",
    "plt.legend(('numerica', 'analitica', 'f(t)'))\n",
    "plt.xlim(None, None)\n",
    "plt.ylim(None, None)"
   ]
  },
  {
   "cell_type": "markdown",
   "metadata": {},
   "source": [
    "## Problema 3:\n",
    "\n",
    "### Integração Numérica\n",
    "\n",
    "Uma integral pode ser calculada numéricamente pela soma de áreas infinitesimais, pela conhecida [Soma de Riemann](https://pt.wikipedia.org/wiki/Soma_de_Riemann). Existem diferentes métodos para definir como será essa área infinitesimal a ser calculada, mas todas elas convergem para o mesmo valor quanto mais próximo de inifinitesimal for o incremento dado.\n",
    "\n",
    "$$ \\int_{a}^{b} f(t)dt = \\sum_{n=1}^{{b-a \\over dt} = \\infty} f(a+ndt) \\cdot dt = \\lim_{h \\to 0} \\sum_{n=1}^{{b-a \\over h}} f(a+nh) \\cdot h $$\n",
    "\n",
    "Para uma dada função $f(t)$ cuja integral no intervalo $a \\rightarrow b$ seja deseja saber, podemos calcular a área de vários retângulos bem finos, de finura $dt$, para os $n$ intervalos $dt$ que estejam compreendidos entre $a$ e $b$ e somá-los. Note que se $f(t) < 0$, a área será \"negativa\", cancelando com a área positiva, o que é consistente com a definição de integral que se é utilizada. Além disso, atente que $dt$ é sempre positivo; se isso passar despercebido você irá acabar calculando \"áreas negativas\" e áreas positivas nos lugares errados.\n",
    "\n",
    "Para o caso em que $\\phi (u, v) = f(u)g(v)$:\n",
    "\n",
    "$$ \\int_{a_2}^{b_2} \\int_{a_1}^{b_1} f(u)g(v) dudv =\n",
    "\\lim_{h_1 \\to 0} \\Bigg (\\sum_{n=1}^{{b_1-a_1 \\over h_1}} f(a_1+nh_1) \\cdot h_1 \\Bigg) \\cdot\n",
    "\\lim_{h_2 \\to 0} \\Bigg (\\sum_{m=1}^{{b_2-a_2 \\over h_2}} f(a_2+mh_2) \\cdot h_2 \\Bigg)\n",
    "$$\n",
    "\n",
    "O que é, em termos práticos, multiplicar duas integrais simples.\n",
    "\n",
    "- Implemente a função que calcule a integral e teste para diferentes incrementos.\n",
    "- Compare o resultado obtido para uma função cuja integral analítica você conheça.\n",
    "\n",
    "- Dica: $n = {b - a \\over h}$, mas o *loop for* só vai funcionar para um número inteiro, lembre-se de converter $n$ para inteiro, mesmo que no papel a divisão já resultasse num número inteiro, por causa do problema do ponto flutuante, que será visto no Notebook de Recursividade. "
   ]
  },
  {
   "cell_type": "code",
   "execution_count": 20,
   "metadata": {},
   "outputs": [
    {
     "data": {
      "text/plain": [
       "0.2122384210932534"
      ]
     },
     "execution_count": 20,
     "metadata": {},
     "output_type": "execute_result"
    }
   ],
   "source": [
    "import math as m\n",
    "\n",
    "f = lambda u: u**2\n",
    "g = lambda v: m.sin(m.pi*v)\n",
    "\n",
    "def integral(f, a, b, h):\n",
    "    \n",
    "    n = int(round(b-a)/h)\n",
    "    integral = 0\n",
    "    for i in range(1, n+1):\n",
    "        integral += f(a+ i*h) * h\n",
    "    return integral\n",
    "\n",
    "integral(f, 1, 2, 0.00001)\n",
    "\n",
    "def integral_dupla(f, a1, b1, h1,\n",
    "                   g, a2, b2, h2):\n",
    "    \n",
    "    return integral(f, a1, b1, h1)*integral(g, a2, b2, h2)\n",
    "\n",
    "integral_dupla(f, 0, 1, 0.0001, g, 0, m.pi, 0.0001)"
   ]
  }
 ],
 "metadata": {
  "kernelspec": {
   "display_name": "Python 3",
   "language": "python",
   "name": "python3"
  },
  "language_info": {
   "codemirror_mode": {
    "name": "ipython",
    "version": 3
   },
   "file_extension": ".py",
   "mimetype": "text/x-python",
   "name": "python",
   "nbconvert_exporter": "python",
   "pygments_lexer": "ipython3",
   "version": "3.8.3"
  }
 },
 "nbformat": 4,
 "nbformat_minor": 4
}
