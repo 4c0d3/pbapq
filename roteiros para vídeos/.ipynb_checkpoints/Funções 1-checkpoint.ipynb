{
 "cells": [
  {
   "cell_type": "markdown",
   "metadata": {},
   "source": [
    "$$ T = {PV \\over nR} $$\n",
    "\n",
    "$$ \\mu = {C_1T^{C_2} \\over {1 + C_3/T + C_4/T^2}}$$"
   ]
  },
  {
   "cell_type": "code",
   "execution_count": 19,
   "metadata": {},
   "outputs": [],
   "source": [
    "C1 = 1.710e-8\n",
    "C2 = 1.146\n",
    "C3 = 0\n",
    "C4 = 0\n",
    "\n",
    "def calcula_viscosidade(P, V, n, R, C1, C2, C3, C4):\n",
    "    T = P*V/n/R\n",
    "    viscosidade = C1*T**C2/(1+C3/T+C4/T**2)    \n",
    "    return viscosidade  \n",
    "    "
   ]
  },
  {
   "cell_type": "code",
   "execution_count": 20,
   "metadata": {},
   "outputs": [
    {
     "data": {
      "text/plain": [
       "5.7928705980540695e-05"
      ]
     },
     "execution_count": 20,
     "metadata": {},
     "output_type": "execute_result"
    }
   ],
   "source": [
    "calcula_viscosidade(10000, 1, 1, 8.314, C1, C2, C3, C4)"
   ]
  }
 ],
 "metadata": {
  "kernelspec": {
   "display_name": "Python 3",
   "language": "python",
   "name": "python3"
  },
  "language_info": {
   "codemirror_mode": {
    "name": "ipython",
    "version": 3
   },
   "file_extension": ".py",
   "mimetype": "text/x-python",
   "name": "python",
   "nbconvert_exporter": "python",
   "pygments_lexer": "ipython3",
   "version": "3.8.3"
  }
 },
 "nbformat": 4,
 "nbformat_minor": 4
}
