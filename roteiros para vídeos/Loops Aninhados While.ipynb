{
 "cells": [
  {
   "cell_type": "code",
   "execution_count": 1,
   "metadata": {},
   "outputs": [],
   "source": [
    "def desastre():\n",
    "    \n",
    "    t = int(input('Qual a temperatura do reator (ºC)? '))\n",
    "    while t != 0:\n",
    "        if t <= 150:\n",
    "            print('ok, tudo tranquilo!')\n",
    "            t = int(input('Qual a temperatura do reator (ºC)? '))\n",
    "        else:\n",
    "            while t > 150:\n",
    "                print('Alarme aceso! Cuidado!!')\n",
    "                if t <= 180:\n",
    "                    t = int(input('Qual a temperatura do reator (ºC)? '))\n",
    "                while t > 180:\n",
    "                    print('Alivia a pressão!!')\n",
    "                    if t <= 190:\n",
    "                        t = int(input('Qual a temperatura do reator (ºC)? '))\n",
    "                    while t > 190:\n",
    "                        print('Aumenta a vazão do trocador')\n",
    "                        if t <= 200:\n",
    "                            t = int(input('Qual a temperatura do reator (ºC)? '))\n",
    "                        while t > 200:\n",
    "                            r = input('O reator tem costura no topo?(s/n) ')\n",
    "                            if r == 's':\n",
    "                                print ('menos mal')\n",
    "                                return 'reator derreteu! Sem reator não tem o que controlar, dia livre!!!!'\n",
    "                            else:\n",
    "                                print ('corre que o reator vai decolar!!!!')\n",
    "                                return 'reator voador, salve-se quem puder!!!!'\n",
    "    if t <= 25:\n",
    "        return 'fim da batelada, vou pra casa!'"
   ]
  },
  {
   "cell_type": "code",
   "execution_count": 2,
   "metadata": {},
   "outputs": [
    {
     "name": "stdout",
     "output_type": "stream",
     "text": [
      "Qual a temperatura do reator (ºC)? 30\n",
      "ok, tudo tranquilo!\n",
      "Qual a temperatura do reator (ºC)? 150\n",
      "ok, tudo tranquilo!\n",
      "Qual a temperatura do reator (ºC)? 151\n",
      "Alarme aceso! Cuidado!!\n",
      "Qual a temperatura do reator (ºC)? 161\n",
      "Alarme aceso! Cuidado!!\n",
      "Qual a temperatura do reator (ºC)? 190\n",
      "Alivia a pressão!!\n",
      "Qual a temperatura do reator (ºC)? 200\n",
      "Aumenta a vazão do trocador\n",
      "Qual a temperatura do reator (ºC)? 201\n",
      "O reator tem costura no topo?(s/n) n\n",
      "corre que o reator vai decolar!!!!\n"
     ]
    },
    {
     "data": {
      "text/plain": [
       "'reator voador, salve-se quem puder!!!!'"
      ]
     },
     "execution_count": 2,
     "metadata": {},
     "output_type": "execute_result"
    }
   ],
   "source": [
    "desastre()"
   ]
  }
 ],
 "metadata": {
  "kernelspec": {
   "display_name": "Python 3",
   "language": "python",
   "name": "python3"
  },
  "language_info": {
   "codemirror_mode": {
    "name": "ipython",
    "version": 3
   },
   "file_extension": ".py",
   "mimetype": "text/x-python",
   "name": "python",
   "nbconvert_exporter": "python",
   "pygments_lexer": "ipython3",
   "version": "3.8.3"
  }
 },
 "nbformat": 4,
 "nbformat_minor": 4
}
